{
  "cells": [
    {
      "cell_type": "markdown",
      "metadata": {
        "id": "KdkvAZYXjbxf"
      },
      "source": [
        "# Tradução utilizando Attention\n",
        "> Baseado no artigo [Attention is all you need](https://arxiv.org/abs/1706.03762)."
      ]
    },
    {
      "cell_type": "markdown",
      "metadata": {
        "id": "hNkD-nvL6UCe"
      },
      "source": [
        "O Transformador - para facilitar o entendimento daqueles com um conhecimento prévio em redes neurais, chamaremos de \"Transformer\" assim como na literatura original - do artigo \"Attention is all you need\" têm estado na mente de várias pessoas desde que foi escrito no ano de 2017. Além de produzir grandes melhorias na qualidade da tradução, fornece uma arquitetura para muitas outras tarefas de NLP ( Natural Language Processing ). O artigo em si está escrito de forma muito clara, mas os leitores comentam que é muito difícil de implementá-lo corretamente.\n",
        "\n",
        "Nesse notebook apresentamos uma implementação, tentando comentar linha por linha. Reorganizamos e excluímos algumas seções do artigo original e adicionamos comentários onde pensamos ser necessário.\n",
        "\n",
        "Vale mencionar que, no original, existem cerca 400 linhas de código de biblioteca que podem processar 27.000 tokens por segundo em 4 GPUs, mas como não contamos com esse poder computacional, implementamos uma versão que funcione com apenas 1 GPU, caso quem for rodar esse código possua uma, do contrário será usado a CPU.\n",
        "\n",
        "O código apresentado aqui é fortemente baseado nos pacotes [OpenNMT](https://opennmt.net/). Para outras implementações de serviço completas do modelo, vale conferir [Tensor2Tensor (Tensorflow)](https://github.com/tensorflow/tensor2tensor) e [Sockeye (mxnet)](https://github.com/awslabs/sockeye)."
      ]
    },
    {
      "cell_type": "markdown",
      "metadata": {
        "id": "Dyt8aemViaIk"
      },
      "source": [
        "## Bibliotecas"
      ]
    },
    {
      "cell_type": "code",
      "execution_count": 1,
      "metadata": {
        "id": "HUhC_6ObibG9"
      },
      "outputs": [
        {
          "name": "stderr",
          "output_type": "stream",
          "text": [
            "[nltk_data] Downloading package punkt to\n",
            "[nltk_data]     C:\\Users\\User\\AppData\\Roaming\\nltk_data...\n",
            "[nltk_data]   Package punkt is already up-to-date!\n"
          ]
        }
      ],
      "source": [
        "import numpy as np\n",
        "\n",
        "import torch\n",
        "import torch.nn as nn\n",
        "import torch.nn.functional as F\n",
        "from torch.autograd import Variable\n",
        "\n",
        "import nltk\n",
        "from nltk.translate.bleu_score import sentence_bleu\n",
        "nltk.download('punkt')\n",
        "\n",
        "import math, copy, time\n",
        "\n",
        "import matplotlib.pyplot as plt\n",
        "import seaborn\n",
        "seaborn.set_context(context = \"talk\")\n",
        "\n",
        "from IPython.display import Image\n",
        "\n",
        "%matplotlib inline"
      ]
    },
    {
      "cell_type": "markdown",
      "metadata": {
        "id": "odf5cWZj-5f0"
      },
      "source": [
        "## Breve background\n",
        "O objetivo de reduzir a computação sequencial também forma a base do [Extended Neural GPU](https://www.researchgate.net/publication/309631810_Extensions_and_Limitations_of_the_Neural_GPU), [ByteNet](https://sh-tsang.medium.com/review-neural-machine-translation-in-linear-time-bytenet-e5a50bfb462b) e [ConvS2S](https://sh-tsang.medium.com/review-convolutional-sequence-to-sequence-learning-convs2s-510a9eddce05), que usam redes neurais convolucionais como bloco de construção básico, computando representações ocultas em paralelo para todas as posições de entrada e saída. Nesses modelos, o número de operações necessárias para relacionar sinais de duas posições arbitrárias de entrada ou saída cresce na distância entre as posições, linearmente para ConvS2S e logaritmicamente para ByteNet. Isso torna mais difícil aprender dependências entre posições distantes. No Transformer, isso é reduzido a um número constante de operações, embora ao custo de uma resolução efetiva reduzida devido à média das posições ponderadas de atenção, um efeito que é neutralizado com a Atenção de Múltiplas Cabeças ( Multi-Head ).\n",
        "\n",
        "A autoatenção, às vezes chamada de intra-atenção, é um mecanismo de atenção que relaciona diferentes posições de uma única sequência para computar uma representação da sequência. A autoatenção tem sido usada com sucesso em uma variedade de tarefas, incluindo compreensão de leitura, resumo de abstratos, vinculação textual e representações de sentenças independentes da tarefa de aprendizagem. As redes de memória de ponta a ponta são baseadas em um mecanismo de atenção recorrente em vez de recorrência alinhada por sequência e têm demonstrado um bom desempenho em respostas a perguntas de linguagem simples e tarefas de modelagem de linguagem.\n",
        "\n",
        "Até onde sabemos, no entanto, o Transformer é o primeiro modelo de tradução que depende inteiramente da autoatenção para calcular as representações de sua entrada e saída sem usar redes neurais recorrentes alinhadas à sequência ou convolução.\n"
      ]
    },
    {
      "cell_type": "markdown",
      "metadata": {
        "id": "T4Jq5J98jR-B"
      },
      "source": [
        "## Arquitetura do modelo\n",
        "A maioria dos modelos neurais competitivos de tradução de sequência tem uma estrutura [codificador-decodificador (Encoder-Decoder)](https://arxiv.org/abs/1409.0473). Aqui, o codificador mapeia uma sequência de entrada de representações de símbolos $ (x_1, ..., x_n) $ para uma sequência de representações contínuas $ z = (z_1, ..., z_n) $. Dado $ z $, o decodificador então gera uma sequência de saída $ (y_1, ..., y_m) $ de símbolos um elemento por vez. A cada passo, o modelo é [auto-regressivo](https://arxiv.org/abs/1308.0850), consumindo os símbolos gerados anteriormente como entrada adicional quando gerando o próximo."
      ]
    },
    {
      "cell_type": "code",
      "execution_count": 3,
      "metadata": {
        "id": "qw6PxsbPigcN"
      },
      "outputs": [],
      "source": [
        "class EncoderDecoder(nn.Module):\n",
        "    '''\n",
        "    A standard Encoder-Decoder architecture. \n",
        "    Base for this and many other models.\n",
        "    '''\n",
        "    def __init__(self, encoder, decoder, src_embed, tgt_embed, generator):\n",
        "        super(EncoderDecoder, self).__init__()\n",
        "        self.encoder = encoder\n",
        "        self.decoder = decoder\n",
        "        self.src_embed = src_embed\n",
        "        self.tgt_embed = tgt_embed\n",
        "        self.generator = generator\n",
        "        \n",
        "    def forward(self, src, tgt, src_mask, tgt_mask):\n",
        "        '''\n",
        "        Take in and process masked src and target sequences.\n",
        "        '''\n",
        "        return self.decode(self.encode(src, src_mask), \n",
        "                           src_mask, tgt, tgt_mask)\n",
        "    \n",
        "    def encode(self, src, src_mask):\n",
        "        return self.encoder(self.src_embed(src), src_mask)\n",
        "    \n",
        "    def decode(self, memory, src_mask, tgt, tgt_mask):\n",
        "        return self.decoder(self.tgt_embed(tgt), memory, src_mask, tgt_mask)"
      ]
    },
    {
      "cell_type": "code",
      "execution_count": 4,
      "metadata": {
        "id": "fKtApiXLjTh9"
      },
      "outputs": [],
      "source": [
        "class Generator(nn.Module):\n",
        "    '''\n",
        "    Define standard linear + softmax generation step.\n",
        "    '''\n",
        "    def __init__(self, d_model, vocab):\n",
        "        super(Generator, self).__init__()\n",
        "        self.proj = nn.Linear(d_model, vocab)\n",
        "\n",
        "    def forward(self, x):\n",
        "        return F.log_softmax(self.proj(x), dim = -1)"
      ]
    },
    {
      "cell_type": "markdown",
      "metadata": {
        "id": "Ly5DZF5NA9F8"
      },
      "source": [
        "O Transformer segue essa arquitetura geral usando camadas de autoatenção empilhadas e totalmente conectadas por pontos para o codificador e o decodificador, mostradas nas metades esquerda e direita da figura abaixo, respectivamente."
      ]
    },
    {
      "cell_type": "code",
      "execution_count": 5,
      "metadata": {
        "colab": {
          "base_uri": "https://localhost:8080/",
          "height": 577
        },
        "id": "qIqEZLPW1Z5z",
        "outputId": "aa4a7409-0787-4cb3-8eff-67275d518c07"
      },
      "outputs": [
        {
          "data": {
            "image/png": "[encoded data removed]",
            "text/plain": [
              "<IPython.core.display.Image object>"
            ]
          },
          "execution_count": 5,
          "metadata": {},
          "output_type": "execute_result"
        }
      ],
      "source": [
        "Image(filename='Imagens/architecture.png')"
      ]
    },
    {
      "cell_type": "markdown",
      "metadata": {
        "id": "0rON22Oykxe-"
      },
      "source": [
        "## Pilhas de Encoder e Decoder"
      ]
    },
    {
      "cell_type": "markdown",
      "metadata": {
        "id": "oM97bTuNk0fY"
      },
      "source": [
        "### Encoder\n",
        "O enconder é composto de uma pilha de $ N = 6 $ camadas idênticas."
      ]
    },
    {
      "cell_type": "code",
      "execution_count": 6,
      "metadata": {
        "id": "W4YB926Fkz2U"
      },
      "outputs": [],
      "source": [
        "def clones(module, N):\n",
        "    '''\n",
        "    Produce N identical layers.\n",
        "    '''\n",
        "    return nn.ModuleList([copy.deepcopy(module) for _ in range(N)])"
      ]
    },
    {
      "cell_type": "code",
      "execution_count": 7,
      "metadata": {
        "id": "EcqcEC2mk8iV"
      },
      "outputs": [],
      "source": [
        "class Encoder(nn.Module):\n",
        "    '''\n",
        "    Core encoder is a stack of N layers\n",
        "    '''\n",
        "    def __init__(self, layer, N):\n",
        "        super(Encoder, self).__init__()\n",
        "        self.layers = clones(layer, N)\n",
        "        self.norm = LayerNorm(layer.size)\n",
        "        \n",
        "    def forward(self, x, mask):\n",
        "        '''\n",
        "        Pass the input (and mask) through each layer in turn.\n",
        "        '''\n",
        "        for layer in self.layers:\n",
        "            x = layer(x, mask)\n",
        "            \n",
        "        return self.norm(x)"
      ]
    },
    {
      "cell_type": "markdown",
      "metadata": {
        "id": "zXSbUBcMBX_Y"
      },
      "source": [
        "Empregamos uma [conexão residual](https://arxiv.org/abs/1512.03385) em torno de cada uma das duas subcamadas, seguida da [normalização de camada](https://arxiv.org/abs/1607.06450)."
      ]
    },
    {
      "cell_type": "code",
      "execution_count": 8,
      "metadata": {
        "id": "EJj1wBkck_i0"
      },
      "outputs": [],
      "source": [
        "class LayerNorm(nn.Module):\n",
        "    '''\n",
        "    Construct a layernorm module\n",
        "    '''\n",
        "    def __init__(self, features, eps = 1e-6):\n",
        "        super(LayerNorm, self).__init__()\n",
        "        self.a_2 = nn.Parameter(torch.ones(features))\n",
        "        self.b_2 = nn.Parameter(torch.zeros(features))\n",
        "        self.eps = eps\n",
        "\n",
        "    def forward(self, x):\n",
        "        mean = x.mean(-1, keepdim = True)\n",
        "        std = x.std(-1, keepdim = True)\n",
        "        \n",
        "        return self.a_2 * (x - mean) / (std + self.eps) + self.b_2"
      ]
    },
    {
      "cell_type": "markdown",
      "metadata": {
        "id": "hKwqxTZCCqjv"
      },
      "source": [
        "Isto é, a saída de cada subcamada é $ LayerNorm(x + Sublayer(x)) $, em que $ Sublayer(x) $ é a função implementada na própria subcamada. Aplicamos [dropout](https://jmlr.org/papers/v15/srivastava14a.html) na saída de cada subcamada, antes de ser adicionada à entrada da subcamada e normalizada.\n",
        "\n",
        "Para facilitar essas conexões residuais, todas as subcamadas do modelo, tanto quanto as camadas para os embedding, produzem saídas de dimensão $ d_{model} = 512 $."
      ]
    },
    {
      "cell_type": "code",
      "execution_count": 9,
      "metadata": {
        "id": "NtuALmSilDfd"
      },
      "outputs": [],
      "source": [
        "class SublayerConnection(nn.Module):\n",
        "    '''\n",
        "    A residual connection followed by a layer norm.\n",
        "    Note for code simplicity the norm is first as opposed to last.\n",
        "    '''\n",
        "    def __init__(self, size, dropout):\n",
        "        super(SublayerConnection, self).__init__()\n",
        "        self.norm = LayerNorm(size)\n",
        "        self.dropout = nn.Dropout(dropout)\n",
        "\n",
        "    def forward(self, x, sublayer):\n",
        "        '''\n",
        "        Apply residual connection to any sublayer with the same size.\n",
        "        '''\n",
        "        return x + self.dropout(sublayer(self.norm(x)))"
      ]
    },
    {
      "cell_type": "markdown",
      "metadata": {
        "id": "1POjfYUlDfiB"
      },
      "source": [
        "Cada camada tem duas subcamadas. A primeira é um mecanismo de autoatenção de múltiplas cabeças, e a segunda é uma rede feed-forward simples e totalmente conectada em termos de posição.\n"
      ]
    },
    {
      "cell_type": "code",
      "execution_count": 10,
      "metadata": {
        "id": "7R97BL5Wlr11"
      },
      "outputs": [],
      "source": [
        "class EncoderLayer(nn.Module):\n",
        "    '''\n",
        "    Encoder is made up of self-attn and feed forward (defined below)\n",
        "    '''\n",
        "    def __init__(self, size, self_attn, feed_forward, dropout):\n",
        "        super(EncoderLayer, self).__init__()\n",
        "        self.self_attn = self_attn\n",
        "        self.feed_forward = feed_forward\n",
        "        self.sublayer = clones(SublayerConnection(size, dropout), 2)\n",
        "        self.size = size\n",
        "\n",
        "    def forward(self, x, mask):\n",
        "        '''\n",
        "        Follow figure above for connections\n",
        "        '''\n",
        "        x = self.sublayer[0](x, lambda x: self.self_attn(x, x, x, mask))\n",
        "        \n",
        "        return self.sublayer[1](x, self.feed_forward)"
      ]
    },
    {
      "cell_type": "markdown",
      "metadata": {
        "id": "QGAEh2GPlxA4"
      },
      "source": [
        "### Decoder\n",
        "O decoder também será composto de uma pilha de $ N = 6 $ camadas idênticas."
      ]
    },
    {
      "cell_type": "code",
      "execution_count": 11,
      "metadata": {
        "id": "D1LyoQZqlwWE"
      },
      "outputs": [],
      "source": [
        "class Decoder(nn.Module):\n",
        "    '''\n",
        "    Generic N layer decoder with masking.\n",
        "    '''\n",
        "    def __init__(self, layer, N):\n",
        "        super(Decoder, self).__init__()\n",
        "        self.layers = clones(layer, N)\n",
        "        self.norm = LayerNorm(layer.size)\n",
        "        \n",
        "    def forward(self, x, memory, src_mask, tgt_mask):\n",
        "        for layer in self.layers:\n",
        "            x = layer(x, memory, src_mask, tgt_mask)\n",
        "        \n",
        "        return self.norm(x)"
      ]
    },
    {
      "cell_type": "markdown",
      "metadata": {
        "id": "oL04HLG2EFV0"
      },
      "source": [
        "Além das duas subcamadas em cada camada do codificador, o decodificador insere uma terceira subcamada, que realiza a atenção de múltiplas cabeças sobre a saída da pilha do codificador. Semelhante ao codificador, empregamos conexões residuais em torno de cada uma das subcamadas, seguidas de normalização de camada."
      ]
    },
    {
      "cell_type": "code",
      "execution_count": 12,
      "metadata": {
        "id": "EXgylmPJl4ZU"
      },
      "outputs": [],
      "source": [
        "class DecoderLayer(nn.Module):\n",
        "    '''\n",
        "    Decoder is made of self-attn, src-attn, and feed forward (defined below)\n",
        "    '''\n",
        "    def __init__(self, size, self_attn, src_attn, feed_forward, dropout):\n",
        "        super(DecoderLayer, self).__init__()\n",
        "        self.size = size\n",
        "        self.self_attn = self_attn\n",
        "        self.src_attn = src_attn\n",
        "        self.feed_forward = feed_forward\n",
        "        self.sublayer = clones(SublayerConnection(size, dropout), 3)\n",
        " \n",
        "    def forward(self, x, memory, src_mask, tgt_mask):\n",
        "        m = memory\n",
        "        x = self.sublayer[0](x, lambda x: self.self_attn(x, x, x, tgt_mask))\n",
        "        x = self.sublayer[1](x, lambda x: self.src_attn(x, m, m, src_mask))\n",
        "        \n",
        "        return self.sublayer[2](x, self.feed_forward)"
      ]
    },
    {
      "cell_type": "markdown",
      "metadata": {
        "id": "glRYk2niEzbJ"
      },
      "source": [
        "Também modificamos a subcamada de autoatenção na pilha do decodificador para evitar que as posições atendam às posições subsequentes. Esse mascaramento, combinado com o fato de que os embeddings de saída são deslocados em uma posição, garante que as previsões de posição $ i $ pode depender apenas das saídas conhecidas em posições menores que $ i $.\n"
      ]
    },
    {
      "cell_type": "code",
      "execution_count": 13,
      "metadata": {
        "id": "XLLzL2bBmcnr"
      },
      "outputs": [],
      "source": [
        "def subsequent_mask(size):\n",
        "    '''\n",
        "    Mask out subsequent positions.\n",
        "    '''\n",
        "    attn_shape = (1, size, size)\n",
        "    subsequent_mask = np.triu(np.ones(attn_shape), k = 1).astype('uint8')\n",
        "    \n",
        "    return torch.from_numpy(subsequent_mask) == 0"
      ]
    },
    {
      "cell_type": "markdown",
      "metadata": {
        "id": "b9M3FFlxFK_S"
      },
      "source": [
        "Abaixo a máscara de atenção mostra a posição que cada palavra alvo, por linha, pode olhar, representada pela coluna. As palavras são bloqueadas para atender a futuras palavras durante o treinamento."
      ]
    },
    {
      "cell_type": "code",
      "execution_count": 14,
      "metadata": {
        "colab": {
          "base_uri": "https://localhost:8080/",
          "height": 605
        },
        "id": "ORPGtoMum-Yd",
        "outputId": "da191990-aa1d-4004-dce6-4ccdef3bfa52"
      },
      "outputs": [
        {
          "data": {
            "image/png": "[encoded data removed]",
            "text/plain": [
              "<Figure size 576x576 with 1 Axes>"
            ]
          },
          "metadata": {
            "needs_background": "light"
          },
          "output_type": "display_data"
        }
      ],
      "source": [
        "plt.figure(figsize = (8, 8))\n",
        "plt.imshow(subsequent_mask(20)[0])\n",
        "plt.show()"
      ]
    },
    {
      "cell_type": "markdown",
      "metadata": {
        "id": "SgtUKWGknE97"
      },
      "source": [
        "## Attention\n",
        "Uma função de atenção pode ser descrita como o mapeamento de uma consulta e um conjunto de pares chave-valor para uma saída, onde a consulta, as chaves, os valores e a saída são todos vetores. A saída é calculada como uma soma ponderada dos valores, em que o peso atribuído a cada valor é calculado por uma função de compatibilidade da consulta com a chave correspondente.\n",
        "\n",
        "Chamamos nossa atenção particular de “Atenção de produto interno escalonado” (Scaled Dot-Product Attention). A entrada consiste em consultas e chaves de dimensão $ d_k $, e valores de dimensão $ d_v $. Calculamos os produtos internos da consulta com todas as chaves, dividimos cada um por $ \\sqrt{d_k} $, e aplicamos a [função softmax](https://developers.google.com/machine-learning/crash-course/multi-class-neural-networks/softmax) para obter os pesos dos valores.\n"
      ]
    },
    {
      "cell_type": "code",
      "execution_count": 15,
      "metadata": {
        "colab": {
          "base_uri": "https://localhost:8080/",
          "height": 238
        },
        "id": "dw6hGazPGLDK",
        "outputId": "cac89c8c-9708-40db-a40f-76f2640d8a91"
      },
      "outputs": [
        {
          "data": {
            "image/png": "[encoded data removed]",
            "text/plain": [
              "<IPython.core.display.Image object>"
            ]
          },
          "execution_count": 15,
          "metadata": {},
          "output_type": "execute_result"
        }
      ],
      "source": [
        "Image(filename='Imagens/attention.png')"
      ]
    },
    {
      "cell_type": "markdown",
      "metadata": {
        "id": "7sFkjUMyGC78"
      },
      "source": [
        "Na prática, calculamos a função de atenção num conjunto de consultas simultaneamente, agrupadas numa matriz $ Q $. As chaves e valores também são colocadas juntas em matrizes $ K $ e $ V $. Calculamos a matriz de saídas da seguinte forma:\n",
        "\n",
        "$ \n",
        "\\mathrm{Attention}(Q, K, V) = \\mathrm{softmax}(\\frac{QK^T}{\\sqrt{d_k}})V \n",
        "$"
      ]
    },
    {
      "cell_type": "code",
      "execution_count": 16,
      "metadata": {
        "id": "0gERvYadnCaV"
      },
      "outputs": [],
      "source": [
        "def attention(query, key, value, mask = None, dropout = None):\n",
        "    '''\n",
        "    Compute 'Scaled Dot Product Attention'\n",
        "    '''\n",
        "    d_k = query.size(-1)\n",
        "    scores = torch.matmul(query, key.transpose(-2, -1))/ math.sqrt(d_k)\n",
        "\n",
        "    if mask is not None:\n",
        "        scores = scores.masked_fill(mask == 0, -1e9)\n",
        "    \n",
        "    p_attn = F.softmax(scores, dim = -1)\n",
        "    \n",
        "    if dropout is not None:\n",
        "        p_attn = dropout(p_attn)\n",
        "    \n",
        "    return torch.matmul(p_attn, value), p_attn"
      ]
    },
    {
      "cell_type": "markdown",
      "metadata": {
        "id": "9KHPsCxLIJ9X"
      },
      "source": [
        "As duas funções de atenção mais utilizadas são a [atenção aditiva](https://arxiv.org/abs/1409.0473), e a atenção por produto interno (ou atenção multiplicativa). A atenção por produto interno é idêntica ao algoritmo apresentado, exceto pelo fator de escalonamento de $ \\frac{1}{\\sqrt{d_k}} $. Atenção aditiva calcula a função de compatibilidade utilizando a rede feed-forward com uma única camada oculta (hidden layer). Enquanto as duas são similares em complexidade teórica, atenção por produto interno é muito mais rápida e mais eficiente em termos de espaço na prática, pois pode ser implementada utilizando código de multiplicação de matriz altamente otimizado.\n",
        "\n",
        "Enquanto que para valores pequenos de $ d_k $ os dois mecanismos performam de maneira similar, [atenção aditiva supera a atenção por produto interno sem escalar para maiores valores de $ d_k $](https://arxiv.org/abs/1703.03906). A suspeita dos autores é de que para maiores valores de $ d_k $, os produtos internos crescem em magnitude, empurrando a função softmax para regiões em que ela possui gradientes extremamente pequenos (para ilustrar o porquê dos produtos internos cresceram, assuma que os componentes de $ q $ e $ k $ sejam variáveis independetes aleatórias com média 0 e variância 1. Então, o produto interno deles, $ q \\cdot k = \\sum_{i=1}^{d_k} q_ik_i $, tem média 0 e variância $ d_k $ ). Para contra-atacar esse efeito, escalonamos o produto interno por $ \\frac{1}{\\sqrt{d_k}} $."
      ]
    },
    {
      "cell_type": "code",
      "execution_count": 17,
      "metadata": {
        "colab": {
          "base_uri": "https://localhost:8080/",
          "height": 658
        },
        "id": "Yc6EdBPCIJpp",
        "outputId": "79110359-8cdc-40d7-9482-6aeaae6da1a0"
      },
      "outputs": [
        {
          "data": {
            "image/png": "[encoded data removed]",
            "text/plain": [
              "<IPython.core.display.Image object>"
            ]
          },
          "execution_count": 17,
          "metadata": {},
          "output_type": "execute_result"
        }
      ],
      "source": [
        "Image(filename='Imagens/multi-head.png')"
      ]
    },
    {
      "cell_type": "markdown",
      "metadata": {
        "id": "kII0btnuIJX7"
      },
      "source": [
        "Atenção de Múltiplicas Cabeças (Multi-head attention) permite que o modelo atenda conjuntamente a informações de diferentes subespaços de representação em diferentes posições. Com atenção de uma única cabeça, o cálculo da média inibe isso.\n",
        "\n",
        "$\n",
        "\\mathrm{MultiHead}(Q, K, V) = \\mathrm{Concat}(\\mathrm{head_1}, ...,\n",
        "\\mathrm{head_h})W^O    \\\\\n",
        "    \\text{em que}~\\mathrm{head_i} = \\mathrm{Attention}(QW^Q_i, KW^K_i, VW^V_i)\n",
        "$\n",
        "\n",
        "Em que as projeções são matrizes de parâmetros $ W^Q_i \\in \\mathbb{R}^{d_{\\text{model}} \\times d_k} $, $ W^K_i \\in \\mathbb{R}^{d_{\\text{model}} \\times d_k} $, $ W^V_i \\in \\mathbb{R}^{d_{\\text{model}} \\times d_v} $ e $ W^O \\in \\mathbb{R}^{hd_v \\times d_{\\text{model}}} $. Nesse trabalho, são utilizadas $ h = 8 $ camadas de atenção paralelas, ou \"cabeças\". Para cada uma dessas é usado $ d_k = d_v = d_{model}/ h = 64 $. Devido à dimensão reduzida de cada cabeça, o custo computacional total é semelhante ao da atenção de cabeça única com dimensionalidade total. "
      ]
    },
    {
      "cell_type": "code",
      "execution_count": 18,
      "metadata": {
        "id": "Opjy34lwnfBt"
      },
      "outputs": [],
      "source": [
        "class MultiHeadedAttention(nn.Module):\n",
        "    def __init__(self, h, d_model, dropout):\n",
        "        '''\n",
        "        Take in model size and number of heads.\n",
        "        '''\n",
        "        super(MultiHeadedAttention, self).__init__()\n",
        "        \n",
        "        assert d_model % h == 0\n",
        "        \n",
        "        # We assume d_v always equals d_k\n",
        "        self.d_k = d_model // h\n",
        "        self.h = h\n",
        "        self.linears = clones(nn.Linear(d_model, d_model), 4)\n",
        "        self.attn = None\n",
        "        self.dropout = nn.Dropout(p=dropout)\n",
        "        \n",
        "    def forward(self, query, key, value, mask = None):\n",
        "        '''\n",
        "        Implements figure above\n",
        "        '''\n",
        "        if mask is not None:\n",
        "            # Same mask applied to all h heads.\n",
        "            mask = mask.unsqueeze(1)\n",
        "\n",
        "        nbatches = query.size(0)\n",
        "        \n",
        "        # 1) Do all the linear projections in batch from d_model => h x d_k \n",
        "        query, key, value = [\n",
        "            l(x).view(nbatches, -1, self.h, self.d_k).transpose(1, 2)\n",
        "            for l, x in zip(self.linears, (query, key, value))\n",
        "        ]\n",
        "        \n",
        "        # 2) Apply attention on all the projected vectors in batch. \n",
        "        x, self.attn = attention(query, key, value, mask = mask, dropout = self.dropout)\n",
        "        \n",
        "        # 3) \"Concat\" using a view and apply a final linear. \n",
        "        x = x.transpose(1, 2).contiguous().view(nbatches, -1, self.h * self.d_k)\n",
        "        \n",
        "        return self.linears[-1](x)"
      ]
    },
    {
      "cell_type": "markdown",
      "metadata": {
        "id": "uVNBFkfeXa-F"
      },
      "source": [
        "### Aplicações de Atenção no nosso Modelo\n",
        "O Transformer usa Multi-Head attention em três maneiras diferentes:\n",
        "\n",
        "1. nas camadas de atenção \"encoder-decoder\", as consultas vêm da camada do decodificador anterior e as chaves de memória e os valores vêm da saída do codificador. Isso permite que cada posição no decodificador atenda a todas as posições na sequência de entrada. Isso imita [os mecanismos típicos de atenção do codificador-decodificador em modelos de sequência para sequência (sequence-to-sequence)](https://arxiv.org/abs/1609.08144);\n",
        "2. o codificador contém camadas de autoatenção. Em uma camada de autoatenção todas as chaves, valores e consultas vêm do mesmo local, neste caso, a saída da camada anterior no codificador. Cada posição no codificador pode atender a todas as posições na camada anterior do codificador;\n",
        "3. da mesma forma, as camadas de autoatenção no decodificador permitem que cada \n",
        "posição no decodificador atenda a todas as posições no decodificador até essa posição, inclusive. Precisamos evitar o fluxo de informações para a esquerda no decodificador para preservar a propriedade auto-regressiva. Implementamos isso dentro da atenção de produto escalar escalonado, mascarando (definindo como $- \\infty $) todos os valores na entrada do softmax que correspondem a conexões ilegais.\n"
      ]
    },
    {
      "cell_type": "markdown",
      "metadata": {
        "id": "NOhIifYcoMch"
      },
      "source": [
        "### Position-wise Feed-Forward Networks\n",
        "Além das subcamadas de atenção, cada uma das camadas em nosso codificador e decodificador contém uma rede feed-forward totalmente conectada, que é aplicada a cada posição separadamente e de forma idêntica. Ela consiste em duas transformações lineares com uma [ativação ReLU](https://machinelearningmastery.com/rectified-linear-activation-function-for-deep-learning-neural-networks/) no meio.\n",
        "\n",
        "$ \n",
        "\\mathrm{FFN}(x)=\\max(0, xW_1 + b_1) W_2 + b_2 \n",
        "$\n",
        "\n",
        "Embora as transformações lineares sejam as mesmas em diferentes posições, elas usam parâmetros diferentes de camada para camada. Outra maneira de descrever isso é como duas convoluções com tamanho de kernel igual à 1. A dimensionalidade de entrada e saída é $ d_{model}= 512 $, e a camada interna tem dimensionalidade $ d_{ff} = 2048 $.\n"
      ]
    },
    {
      "cell_type": "code",
      "execution_count": 19,
      "metadata": {
        "id": "prtJAefZoLqk"
      },
      "outputs": [],
      "source": [
        "class PositionwiseFeedForward(nn.Module):\n",
        "    '''\n",
        "    Implements FFN equation.\n",
        "    '''\n",
        "    def __init__(self, d_model, d_ff, dropout):\n",
        "        super(PositionwiseFeedForward, self).__init__()\n",
        "        self.w_1 = nn.Linear(d_model, d_ff)\n",
        "        self.w_2 = nn.Linear(d_ff, d_model)\n",
        "        self.dropout = nn.Dropout(dropout)\n",
        "\n",
        "    def forward(self, x):\n",
        "        return self.w_2(self.dropout(F.relu(self.w_1(x))))"
      ]
    },
    {
      "cell_type": "markdown",
      "metadata": {
        "id": "vQvdtHPpo9ou"
      },
      "source": [
        "### Embeddings e Softmax\n",
        "Da mesma forma que outros modelos de tradução de sequência, usamos embeddings pré-treinados para converter os tokens de entrada e os tokens de saída em vetores de dimensão $ d_{model} $. Também usamos a transformação linear pré-treinada usual e a função softmax para converter a saída do decodificador em probabilidades previstas do próximo token. Em nosso modelo, [compartilhamos a mesma matriz de peso entre as duas camadas de embedding e a transformação linear pré-softmax](https://arxiv.org/abs/1608.05859). Nas camadas de embedding, multiplicamos esses pesos por $ \\sqrt{d_{model}} $. "
      ]
    },
    {
      "cell_type": "code",
      "execution_count": 20,
      "metadata": {
        "id": "bbO6PQzCo8rV"
      },
      "outputs": [],
      "source": [
        "class Embeddings(nn.Module):\n",
        "    def __init__(self, d_model, vocab):\n",
        "        super(Embeddings, self).__init__()\n",
        "        self.lut = nn.Embedding(vocab, d_model)\n",
        "        self.d_model = d_model\n",
        "\n",
        "    def forward(self, x):\n",
        "        return self.lut(x) * math.sqrt(self.d_model)"
      ]
    },
    {
      "cell_type": "markdown",
      "metadata": {
        "id": "OnuOqMjYpNNY"
      },
      "source": [
        "### Positional Encoding\n",
        "Como nosso modelo não contém recorrência e nem convolução, para que o modelo faça uso da ordem da sequência, devemos injetar algumas informações sobre a posição relativa ou absoluta dos tokens na sequência. Para isso, adicionamos “codificações posicionais” aos embeddings de entrada na parte inferior das pilhas do codificador e do decodificador. As codificações posicionais têm a mesma dimensão $d_{model} $ dos embeddings, para que os dois possam ser somados. [Há muitas escolhas de codificação posicional, pré-treinada e fixa](https://arxiv.org/pdf/1705.03122.pdf).\n",
        "\n",
        "Neste trabalho, usamos funções seno e cosseno de diferentes frequências: \n",
        "\n",
        "$ \n",
        "PE_{(pos,2i)} = sin(pos / 10000^{2i/d_{\\text{model}}}) \n",
        "$ \n",
        "$ \n",
        "PE_{(pos,2i+1)} = cos(pos / 10000^{2i/d_{\\text{model}}}) \n",
        "$ em que $ pos $ é a posição e $ i $ é a dimensão. Isto é, cada dimensão de codificação posicional corresponde à uma sinusóide. Os comprimentos de onda formam uma progressão geométrica de $ 2 \\pi $ até $ 10.000 \\times 2 \\pi$. Essa função foi escolhida pois os autores do artigo original hipotetizaram que ela permitiria o modelo aprender facilmente a atender por posições relativas, já que para qualquer deslocamento fixo $ k $, $ PE_{pos+k} $ pode ser representado como uma função linear de $ PE_{pos} $.\n",
        "\n",
        "Além disso, aplicamos dropout às somas dos embeddings e das codificações posicionais nas pilhas do codificador e do decodificador. Para o modelo base, usamos uma taxa de $ P_{drop} = 0.1 $."
      ]
    },
    {
      "cell_type": "code",
      "execution_count": 21,
      "metadata": {
        "id": "NtioNbA1pBUd"
      },
      "outputs": [],
      "source": [
        "class PositionalEncoding(nn.Module):\n",
        "    '''\n",
        "    Implement the PE function.\n",
        "    '''\n",
        "    def __init__(self, d_model, dropout, max_len = 5000):\n",
        "        super(PositionalEncoding, self).__init__()\n",
        "        self.dropout = nn.Dropout(p=dropout)\n",
        "        \n",
        "        # Compute the positional encodings once in log space.\n",
        "        pe = torch.zeros(max_len, d_model)\n",
        "        \n",
        "        position = torch.arange(0, max_len).unsqueeze(1)\n",
        "        div_term = torch.exp(torch.arange(0, d_model, 2) * -(math.log(10000.0) / d_model))\n",
        "        \n",
        "        pe[:, 0::2] = torch.sin(position * div_term)\n",
        "        pe[:, 1::2] = torch.cos(position * div_term)\n",
        "        pe = pe.unsqueeze(0)\n",
        "        \n",
        "        self.register_buffer('pe', pe)\n",
        "        \n",
        "    def forward(self, x):\n",
        "        x = x + Variable(self.pe[:, :x.size(1)], requires_grad=False)\n",
        "        return self.dropout(x)"
      ]
    },
    {
      "cell_type": "markdown",
      "metadata": {
        "id": "02YckYjIag1u"
      },
      "source": [
        "Abaixo a codificação posicional será adicionada a uma onda senoidal com base na posição. A frequência e o deslocamento da onda são diferentes para cada dimensão."
      ]
    },
    {
      "cell_type": "code",
      "execution_count": 22,
      "metadata": {
        "colab": {
          "base_uri": "https://localhost:8080/",
          "height": 333
        },
        "id": "1hhtaPVipQHF",
        "outputId": "92054a7e-b301-4c17-fb35-e7e7480894d6"
      },
      "outputs": [
        {
          "data": {
            "image/png": "[encoded data removed]",
            "text/plain": [
              "<Figure size 1080x360 with 1 Axes>"
            ]
          },
          "metadata": {
            "needs_background": "light"
          },
          "output_type": "display_data"
        }
      ],
      "source": [
        "plt.figure(figsize = (15, 5))\n",
        "\n",
        "pe = PositionalEncoding(20, 0)\n",
        "y = pe.forward(Variable(torch.zeros(1, 100, 20)))\n",
        "\n",
        "plt.plot(np.arange(100), y[0, :, 4:8].data.numpy())\n",
        "plt.legend([\"dim %d\"%p for p in [4, 5, 6, 7]])\n",
        "plt.show()"
      ]
    },
    {
      "cell_type": "markdown",
      "metadata": {
        "id": "-JlUbCl5amur"
      },
      "source": [
        "Os autores originais também experimentaram o uso de [incorporações posicionais pré-treinadas](https://arxiv.org/pdf/1705.03122.pdf) e descobriram que as duas versões produziram resultados quase idênticos. Para esse trabalho foi escolhida a versão senoidal porque ela pode permitir que o modelo extrapole para comprimentos de sequência maiores do que os encontrados durante o treinamento.\n"
      ]
    },
    {
      "cell_type": "markdown",
      "metadata": {
        "id": "9S8fuqhipo6J"
      },
      "source": [
        "## Modelo completo\n",
        "Aqui definimos uma função que recebe hiperparâmetros e produz um modelo completo."
      ]
    },
    {
      "cell_type": "markdown",
      "metadata": {},
      "source": [
        "### Hiperparâmetros"
      ]
    },
    {
      "cell_type": "code",
      "execution_count": 23,
      "metadata": {},
      "outputs": [],
      "source": [
        "n_epochs = 2\n",
        "device = torch.device('cuda' if torch.cuda.is_available() else 'cpu')\n",
        "BATCH_SIZE = 256\n",
        "\n",
        "# modelo\n",
        "N = 6\n",
        "d_model = 512\n",
        "d_ff = 2048\n",
        "h = 8\n",
        "dropout = 0.1\n",
        "V = 11\n",
        "\n",
        "# otimizador\n",
        "lr = 0 \n",
        "betas = (0.9, 0.98)\n",
        "eps = 1e-9\n",
        "factor = 1\n",
        "warmup_steps = 4000\n",
        "\n",
        "# suavização\n",
        "smoothing = 0.0"
      ]
    },
    {
      "cell_type": "code",
      "execution_count": 24,
      "metadata": {
        "id": "84dI4luJpjWt"
      },
      "outputs": [],
      "source": [
        "def make_model(src_vocab, tgt_vocab, N, d_model, d_ff, h, dropout):\n",
        "    '''\n",
        "    Helper: Construct a model from hyperparameters.\n",
        "    '''\n",
        "    c = copy.deepcopy\n",
        "    \n",
        "    attn = MultiHeadedAttention(h, d_model, dropout)\n",
        "    ff = PositionwiseFeedForward(d_model, d_ff, dropout)\n",
        "    position = PositionalEncoding(d_model, dropout)\n",
        "    \n",
        "    model = EncoderDecoder(\n",
        "        Encoder(EncoderLayer(d_model, c(attn), c(ff), dropout), N),\n",
        "        Decoder(DecoderLayer(d_model, c(attn), c(attn), c(ff), dropout), N),\n",
        "        nn.Sequential(Embeddings(d_model, src_vocab), c(position)),\n",
        "        nn.Sequential(Embeddings(d_model, tgt_vocab), c(position)),\n",
        "        Generator(d_model, tgt_vocab)\n",
        "    )\n",
        "    \n",
        "    # This was important from their code. \n",
        "    # Initialize parameters with Glorot / fan_avg.\n",
        "    for p in model.parameters():\n",
        "        if p.dim() > 1:\n",
        "            nn.init.xavier_uniform_(p)\n",
        "    \n",
        "    return model"
      ]
    },
    {
      "cell_type": "code",
      "execution_count": 25,
      "metadata": {
        "id": "U20F5RXeprvN"
      },
      "outputs": [
        {
          "data": {
            "text/plain": [
              "EncoderDecoder(\n",
              "  (encoder): Encoder(\n",
              "    (layers): ModuleList(\n",
              "      (0): EncoderLayer(\n",
              "        (self_attn): MultiHeadedAttention(\n",
              "          (linears): ModuleList(\n",
              "            (0): Linear(in_features=512, out_features=512, bias=True)\n",
              "            (1): Linear(in_features=512, out_features=512, bias=True)\n",
              "            (2): Linear(in_features=512, out_features=512, bias=True)\n",
              "            (3): Linear(in_features=512, out_features=512, bias=True)\n",
              "          )\n",
              "          (dropout): Dropout(p=0.1, inplace=False)\n",
              "        )\n",
              "        (feed_forward): PositionwiseFeedForward(\n",
              "          (w_1): Linear(in_features=512, out_features=2048, bias=True)\n",
              "          (w_2): Linear(in_features=2048, out_features=512, bias=True)\n",
              "          (dropout): Dropout(p=0.1, inplace=False)\n",
              "        )\n",
              "        (sublayer): ModuleList(\n",
              "          (0): SublayerConnection(\n",
              "            (norm): LayerNorm()\n",
              "            (dropout): Dropout(p=0.1, inplace=False)\n",
              "          )\n",
              "          (1): SublayerConnection(\n",
              "            (norm): LayerNorm()\n",
              "            (dropout): Dropout(p=0.1, inplace=False)\n",
              "          )\n",
              "        )\n",
              "      )\n",
              "      (1): EncoderLayer(\n",
              "        (self_attn): MultiHeadedAttention(\n",
              "          (linears): ModuleList(\n",
              "            (0): Linear(in_features=512, out_features=512, bias=True)\n",
              "            (1): Linear(in_features=512, out_features=512, bias=True)\n",
              "            (2): Linear(in_features=512, out_features=512, bias=True)\n",
              "            (3): Linear(in_features=512, out_features=512, bias=True)\n",
              "          )\n",
              "          (dropout): Dropout(p=0.1, inplace=False)\n",
              "        )\n",
              "        (feed_forward): PositionwiseFeedForward(\n",
              "          (w_1): Linear(in_features=512, out_features=2048, bias=True)\n",
              "          (w_2): Linear(in_features=2048, out_features=512, bias=True)\n",
              "          (dropout): Dropout(p=0.1, inplace=False)\n",
              "        )\n",
              "        (sublayer): ModuleList(\n",
              "          (0): SublayerConnection(\n",
              "            (norm): LayerNorm()\n",
              "            (dropout): Dropout(p=0.1, inplace=False)\n",
              "          )\n",
              "          (1): SublayerConnection(\n",
              "            (norm): LayerNorm()\n",
              "            (dropout): Dropout(p=0.1, inplace=False)\n",
              "          )\n",
              "        )\n",
              "      )\n",
              "      (2): EncoderLayer(\n",
              "        (self_attn): MultiHeadedAttention(\n",
              "          (linears): ModuleList(\n",
              "            (0): Linear(in_features=512, out_features=512, bias=True)\n",
              "            (1): Linear(in_features=512, out_features=512, bias=True)\n",
              "            (2): Linear(in_features=512, out_features=512, bias=True)\n",
              "            (3): Linear(in_features=512, out_features=512, bias=True)\n",
              "          )\n",
              "          (dropout): Dropout(p=0.1, inplace=False)\n",
              "        )\n",
              "        (feed_forward): PositionwiseFeedForward(\n",
              "          (w_1): Linear(in_features=512, out_features=2048, bias=True)\n",
              "          (w_2): Linear(in_features=2048, out_features=512, bias=True)\n",
              "          (dropout): Dropout(p=0.1, inplace=False)\n",
              "        )\n",
              "        (sublayer): ModuleList(\n",
              "          (0): SublayerConnection(\n",
              "            (norm): LayerNorm()\n",
              "            (dropout): Dropout(p=0.1, inplace=False)\n",
              "          )\n",
              "          (1): SublayerConnection(\n",
              "            (norm): LayerNorm()\n",
              "            (dropout): Dropout(p=0.1, inplace=False)\n",
              "          )\n",
              "        )\n",
              "      )\n",
              "      (3): EncoderLayer(\n",
              "        (self_attn): MultiHeadedAttention(\n",
              "          (linears): ModuleList(\n",
              "            (0): Linear(in_features=512, out_features=512, bias=True)\n",
              "            (1): Linear(in_features=512, out_features=512, bias=True)\n",
              "            (2): Linear(in_features=512, out_features=512, bias=True)\n",
              "            (3): Linear(in_features=512, out_features=512, bias=True)\n",
              "          )\n",
              "          (dropout): Dropout(p=0.1, inplace=False)\n",
              "        )\n",
              "        (feed_forward): PositionwiseFeedForward(\n",
              "          (w_1): Linear(in_features=512, out_features=2048, bias=True)\n",
              "          (w_2): Linear(in_features=2048, out_features=512, bias=True)\n",
              "          (dropout): Dropout(p=0.1, inplace=False)\n",
              "        )\n",
              "        (sublayer): ModuleList(\n",
              "          (0): SublayerConnection(\n",
              "            (norm): LayerNorm()\n",
              "            (dropout): Dropout(p=0.1, inplace=False)\n",
              "          )\n",
              "          (1): SublayerConnection(\n",
              "            (norm): LayerNorm()\n",
              "            (dropout): Dropout(p=0.1, inplace=False)\n",
              "          )\n",
              "        )\n",
              "      )\n",
              "      (4): EncoderLayer(\n",
              "        (self_attn): MultiHeadedAttention(\n",
              "          (linears): ModuleList(\n",
              "            (0): Linear(in_features=512, out_features=512, bias=True)\n",
              "            (1): Linear(in_features=512, out_features=512, bias=True)\n",
              "            (2): Linear(in_features=512, out_features=512, bias=True)\n",
              "            (3): Linear(in_features=512, out_features=512, bias=True)\n",
              "          )\n",
              "          (dropout): Dropout(p=0.1, inplace=False)\n",
              "        )\n",
              "        (feed_forward): PositionwiseFeedForward(\n",
              "          (w_1): Linear(in_features=512, out_features=2048, bias=True)\n",
              "          (w_2): Linear(in_features=2048, out_features=512, bias=True)\n",
              "          (dropout): Dropout(p=0.1, inplace=False)\n",
              "        )\n",
              "        (sublayer): ModuleList(\n",
              "          (0): SublayerConnection(\n",
              "            (norm): LayerNorm()\n",
              "            (dropout): Dropout(p=0.1, inplace=False)\n",
              "          )\n",
              "          (1): SublayerConnection(\n",
              "            (norm): LayerNorm()\n",
              "            (dropout): Dropout(p=0.1, inplace=False)\n",
              "          )\n",
              "        )\n",
              "      )\n",
              "      (5): EncoderLayer(\n",
              "        (self_attn): MultiHeadedAttention(\n",
              "          (linears): ModuleList(\n",
              "            (0): Linear(in_features=512, out_features=512, bias=True)\n",
              "            (1): Linear(in_features=512, out_features=512, bias=True)\n",
              "            (2): Linear(in_features=512, out_features=512, bias=True)\n",
              "            (3): Linear(in_features=512, out_features=512, bias=True)\n",
              "          )\n",
              "          (dropout): Dropout(p=0.1, inplace=False)\n",
              "        )\n",
              "        (feed_forward): PositionwiseFeedForward(\n",
              "          (w_1): Linear(in_features=512, out_features=2048, bias=True)\n",
              "          (w_2): Linear(in_features=2048, out_features=512, bias=True)\n",
              "          (dropout): Dropout(p=0.1, inplace=False)\n",
              "        )\n",
              "        (sublayer): ModuleList(\n",
              "          (0): SublayerConnection(\n",
              "            (norm): LayerNorm()\n",
              "            (dropout): Dropout(p=0.1, inplace=False)\n",
              "          )\n",
              "          (1): SublayerConnection(\n",
              "            (norm): LayerNorm()\n",
              "            (dropout): Dropout(p=0.1, inplace=False)\n",
              "          )\n",
              "        )\n",
              "      )\n",
              "    )\n",
              "    (norm): LayerNorm()\n",
              "  )\n",
              "  (decoder): Decoder(\n",
              "    (layers): ModuleList(\n",
              "      (0): DecoderLayer(\n",
              "        (self_attn): MultiHeadedAttention(\n",
              "          (linears): ModuleList(\n",
              "            (0): Linear(in_features=512, out_features=512, bias=True)\n",
              "            (1): Linear(in_features=512, out_features=512, bias=True)\n",
              "            (2): Linear(in_features=512, out_features=512, bias=True)\n",
              "            (3): Linear(in_features=512, out_features=512, bias=True)\n",
              "          )\n",
              "          (dropout): Dropout(p=0.1, inplace=False)\n",
              "        )\n",
              "        (src_attn): MultiHeadedAttention(\n",
              "          (linears): ModuleList(\n",
              "            (0): Linear(in_features=512, out_features=512, bias=True)\n",
              "            (1): Linear(in_features=512, out_features=512, bias=True)\n",
              "            (2): Linear(in_features=512, out_features=512, bias=True)\n",
              "            (3): Linear(in_features=512, out_features=512, bias=True)\n",
              "          )\n",
              "          (dropout): Dropout(p=0.1, inplace=False)\n",
              "        )\n",
              "        (feed_forward): PositionwiseFeedForward(\n",
              "          (w_1): Linear(in_features=512, out_features=2048, bias=True)\n",
              "          (w_2): Linear(in_features=2048, out_features=512, bias=True)\n",
              "          (dropout): Dropout(p=0.1, inplace=False)\n",
              "        )\n",
              "        (sublayer): ModuleList(\n",
              "          (0): SublayerConnection(\n",
              "            (norm): LayerNorm()\n",
              "            (dropout): Dropout(p=0.1, inplace=False)\n",
              "          )\n",
              "          (1): SublayerConnection(\n",
              "            (norm): LayerNorm()\n",
              "            (dropout): Dropout(p=0.1, inplace=False)\n",
              "          )\n",
              "          (2): SublayerConnection(\n",
              "            (norm): LayerNorm()\n",
              "            (dropout): Dropout(p=0.1, inplace=False)\n",
              "          )\n",
              "        )\n",
              "      )\n",
              "      (1): DecoderLayer(\n",
              "        (self_attn): MultiHeadedAttention(\n",
              "          (linears): ModuleList(\n",
              "            (0): Linear(in_features=512, out_features=512, bias=True)\n",
              "            (1): Linear(in_features=512, out_features=512, bias=True)\n",
              "            (2): Linear(in_features=512, out_features=512, bias=True)\n",
              "            (3): Linear(in_features=512, out_features=512, bias=True)\n",
              "          )\n",
              "          (dropout): Dropout(p=0.1, inplace=False)\n",
              "        )\n",
              "        (src_attn): MultiHeadedAttention(\n",
              "          (linears): ModuleList(\n",
              "            (0): Linear(in_features=512, out_features=512, bias=True)\n",
              "            (1): Linear(in_features=512, out_features=512, bias=True)\n",
              "            (2): Linear(in_features=512, out_features=512, bias=True)\n",
              "            (3): Linear(in_features=512, out_features=512, bias=True)\n",
              "          )\n",
              "          (dropout): Dropout(p=0.1, inplace=False)\n",
              "        )\n",
              "        (feed_forward): PositionwiseFeedForward(\n",
              "          (w_1): Linear(in_features=512, out_features=2048, bias=True)\n",
              "          (w_2): Linear(in_features=2048, out_features=512, bias=True)\n",
              "          (dropout): Dropout(p=0.1, inplace=False)\n",
              "        )\n",
              "        (sublayer): ModuleList(\n",
              "          (0): SublayerConnection(\n",
              "            (norm): LayerNorm()\n",
              "            (dropout): Dropout(p=0.1, inplace=False)\n",
              "          )\n",
              "          (1): SublayerConnection(\n",
              "            (norm): LayerNorm()\n",
              "            (dropout): Dropout(p=0.1, inplace=False)\n",
              "          )\n",
              "          (2): SublayerConnection(\n",
              "            (norm): LayerNorm()\n",
              "            (dropout): Dropout(p=0.1, inplace=False)\n",
              "          )\n",
              "        )\n",
              "      )\n",
              "      (2): DecoderLayer(\n",
              "        (self_attn): MultiHeadedAttention(\n",
              "          (linears): ModuleList(\n",
              "            (0): Linear(in_features=512, out_features=512, bias=True)\n",
              "            (1): Linear(in_features=512, out_features=512, bias=True)\n",
              "            (2): Linear(in_features=512, out_features=512, bias=True)\n",
              "            (3): Linear(in_features=512, out_features=512, bias=True)\n",
              "          )\n",
              "          (dropout): Dropout(p=0.1, inplace=False)\n",
              "        )\n",
              "        (src_attn): MultiHeadedAttention(\n",
              "          (linears): ModuleList(\n",
              "            (0): Linear(in_features=512, out_features=512, bias=True)\n",
              "            (1): Linear(in_features=512, out_features=512, bias=True)\n",
              "            (2): Linear(in_features=512, out_features=512, bias=True)\n",
              "            (3): Linear(in_features=512, out_features=512, bias=True)\n",
              "          )\n",
              "          (dropout): Dropout(p=0.1, inplace=False)\n",
              "        )\n",
              "        (feed_forward): PositionwiseFeedForward(\n",
              "          (w_1): Linear(in_features=512, out_features=2048, bias=True)\n",
              "          (w_2): Linear(in_features=2048, out_features=512, bias=True)\n",
              "          (dropout): Dropout(p=0.1, inplace=False)\n",
              "        )\n",
              "        (sublayer): ModuleList(\n",
              "          (0): SublayerConnection(\n",
              "            (norm): LayerNorm()\n",
              "            (dropout): Dropout(p=0.1, inplace=False)\n",
              "          )\n",
              "          (1): SublayerConnection(\n",
              "            (norm): LayerNorm()\n",
              "            (dropout): Dropout(p=0.1, inplace=False)\n",
              "          )\n",
              "          (2): SublayerConnection(\n",
              "            (norm): LayerNorm()\n",
              "            (dropout): Dropout(p=0.1, inplace=False)\n",
              "          )\n",
              "        )\n",
              "      )\n",
              "      (3): DecoderLayer(\n",
              "        (self_attn): MultiHeadedAttention(\n",
              "          (linears): ModuleList(\n",
              "            (0): Linear(in_features=512, out_features=512, bias=True)\n",
              "            (1): Linear(in_features=512, out_features=512, bias=True)\n",
              "            (2): Linear(in_features=512, out_features=512, bias=True)\n",
              "            (3): Linear(in_features=512, out_features=512, bias=True)\n",
              "          )\n",
              "          (dropout): Dropout(p=0.1, inplace=False)\n",
              "        )\n",
              "        (src_attn): MultiHeadedAttention(\n",
              "          (linears): ModuleList(\n",
              "            (0): Linear(in_features=512, out_features=512, bias=True)\n",
              "            (1): Linear(in_features=512, out_features=512, bias=True)\n",
              "            (2): Linear(in_features=512, out_features=512, bias=True)\n",
              "            (3): Linear(in_features=512, out_features=512, bias=True)\n",
              "          )\n",
              "          (dropout): Dropout(p=0.1, inplace=False)\n",
              "        )\n",
              "        (feed_forward): PositionwiseFeedForward(\n",
              "          (w_1): Linear(in_features=512, out_features=2048, bias=True)\n",
              "          (w_2): Linear(in_features=2048, out_features=512, bias=True)\n",
              "          (dropout): Dropout(p=0.1, inplace=False)\n",
              "        )\n",
              "        (sublayer): ModuleList(\n",
              "          (0): SublayerConnection(\n",
              "            (norm): LayerNorm()\n",
              "            (dropout): Dropout(p=0.1, inplace=False)\n",
              "          )\n",
              "          (1): SublayerConnection(\n",
              "            (norm): LayerNorm()\n",
              "            (dropout): Dropout(p=0.1, inplace=False)\n",
              "          )\n",
              "          (2): SublayerConnection(\n",
              "            (norm): LayerNorm()\n",
              "            (dropout): Dropout(p=0.1, inplace=False)\n",
              "          )\n",
              "        )\n",
              "      )\n",
              "      (4): DecoderLayer(\n",
              "        (self_attn): MultiHeadedAttention(\n",
              "          (linears): ModuleList(\n",
              "            (0): Linear(in_features=512, out_features=512, bias=True)\n",
              "            (1): Linear(in_features=512, out_features=512, bias=True)\n",
              "            (2): Linear(in_features=512, out_features=512, bias=True)\n",
              "            (3): Linear(in_features=512, out_features=512, bias=True)\n",
              "          )\n",
              "          (dropout): Dropout(p=0.1, inplace=False)\n",
              "        )\n",
              "        (src_attn): MultiHeadedAttention(\n",
              "          (linears): ModuleList(\n",
              "            (0): Linear(in_features=512, out_features=512, bias=True)\n",
              "            (1): Linear(in_features=512, out_features=512, bias=True)\n",
              "            (2): Linear(in_features=512, out_features=512, bias=True)\n",
              "            (3): Linear(in_features=512, out_features=512, bias=True)\n",
              "          )\n",
              "          (dropout): Dropout(p=0.1, inplace=False)\n",
              "        )\n",
              "        (feed_forward): PositionwiseFeedForward(\n",
              "          (w_1): Linear(in_features=512, out_features=2048, bias=True)\n",
              "          (w_2): Linear(in_features=2048, out_features=512, bias=True)\n",
              "          (dropout): Dropout(p=0.1, inplace=False)\n",
              "        )\n",
              "        (sublayer): ModuleList(\n",
              "          (0): SublayerConnection(\n",
              "            (norm): LayerNorm()\n",
              "            (dropout): Dropout(p=0.1, inplace=False)\n",
              "          )\n",
              "          (1): SublayerConnection(\n",
              "            (norm): LayerNorm()\n",
              "            (dropout): Dropout(p=0.1, inplace=False)\n",
              "          )\n",
              "          (2): SublayerConnection(\n",
              "            (norm): LayerNorm()\n",
              "            (dropout): Dropout(p=0.1, inplace=False)\n",
              "          )\n",
              "        )\n",
              "      )\n",
              "      (5): DecoderLayer(\n",
              "        (self_attn): MultiHeadedAttention(\n",
              "          (linears): ModuleList(\n",
              "            (0): Linear(in_features=512, out_features=512, bias=True)\n",
              "            (1): Linear(in_features=512, out_features=512, bias=True)\n",
              "            (2): Linear(in_features=512, out_features=512, bias=True)\n",
              "            (3): Linear(in_features=512, out_features=512, bias=True)\n",
              "          )\n",
              "          (dropout): Dropout(p=0.1, inplace=False)\n",
              "        )\n",
              "        (src_attn): MultiHeadedAttention(\n",
              "          (linears): ModuleList(\n",
              "            (0): Linear(in_features=512, out_features=512, bias=True)\n",
              "            (1): Linear(in_features=512, out_features=512, bias=True)\n",
              "            (2): Linear(in_features=512, out_features=512, bias=True)\n",
              "            (3): Linear(in_features=512, out_features=512, bias=True)\n",
              "          )\n",
              "          (dropout): Dropout(p=0.1, inplace=False)\n",
              "        )\n",
              "        (feed_forward): PositionwiseFeedForward(\n",
              "          (w_1): Linear(in_features=512, out_features=2048, bias=True)\n",
              "          (w_2): Linear(in_features=2048, out_features=512, bias=True)\n",
              "          (dropout): Dropout(p=0.1, inplace=False)\n",
              "        )\n",
              "        (sublayer): ModuleList(\n",
              "          (0): SublayerConnection(\n",
              "            (norm): LayerNorm()\n",
              "            (dropout): Dropout(p=0.1, inplace=False)\n",
              "          )\n",
              "          (1): SublayerConnection(\n",
              "            (norm): LayerNorm()\n",
              "            (dropout): Dropout(p=0.1, inplace=False)\n",
              "          )\n",
              "          (2): SublayerConnection(\n",
              "            (norm): LayerNorm()\n",
              "            (dropout): Dropout(p=0.1, inplace=False)\n",
              "          )\n",
              "        )\n",
              "      )\n",
              "    )\n",
              "    (norm): LayerNorm()\n",
              "  )\n",
              "  (src_embed): Sequential(\n",
              "    (0): Embeddings(\n",
              "      (lut): Embedding(2, 512)\n",
              "    )\n",
              "    (1): PositionalEncoding(\n",
              "      (dropout): Dropout(p=0.1, inplace=False)\n",
              "    )\n",
              "  )\n",
              "  (tgt_embed): Sequential(\n",
              "    (0): Embeddings(\n",
              "      (lut): Embedding(2, 512)\n",
              "    )\n",
              "    (1): PositionalEncoding(\n",
              "      (dropout): Dropout(p=0.1, inplace=False)\n",
              "    )\n",
              "  )\n",
              "  (generator): Generator(\n",
              "    (proj): Linear(in_features=512, out_features=2, bias=True)\n",
              "  )\n",
              ")"
            ]
          },
          "execution_count": 25,
          "metadata": {},
          "output_type": "execute_result"
        }
      ],
      "source": [
        "# Small example model.\n",
        "tmp_model = make_model(2, 2, N = N, d_model = d_model, d_ff = d_ff, h = h, dropout = dropout).to(device)\n",
        "tmp_model"
      ]
    },
    {
      "cell_type": "markdown",
      "metadata": {
        "id": "SHVClNozpxJj"
      },
      "source": [
        "## Treinamento\n",
        "Esta seção descreve o regime de treinamento para nossos modelos."
      ]
    },
    {
      "cell_type": "markdown",
      "metadata": {
        "id": "wmZie2BipzK9"
      },
      "source": [
        "### Batches e Masking\n",
        "Paramos para um breve interlúdio para apresentar algumas das ferramentas necessárias para treinar um modelo de decodificador de codificador padrão. Primeiro, definimos um objeto batch que contém as sentenças src e target para treinamento, além de construir as máscaras."
      ]
    },
    {
      "cell_type": "code",
      "execution_count": 26,
      "metadata": {
        "id": "rcAXs12JpunN"
      },
      "outputs": [],
      "source": [
        "class Batch:\n",
        "    '''\n",
        "    Object for holding a batch of data with mask during training.\"\n",
        "    '''\n",
        "    def __init__(self, src, trg = None, pad = 0):\n",
        "        self.src = src\n",
        "        self.src_mask = (src != pad).unsqueeze(-2)\n",
        "        \n",
        "        if trg is not None:\n",
        "            self.trg = trg[:, :-1]\n",
        "            self.trg_y = trg[:, 1:]\n",
        "            self.trg_mask = self.make_std_mask(self.trg, pad)\n",
        "            self.ntokens = (self.trg_y != pad).data.sum()\n",
        "    \n",
        "    @staticmethod\n",
        "    def make_std_mask(tgt, pad):\n",
        "        '''\n",
        "        Create a mask to hide padding and future words.\n",
        "        '''\n",
        "        tgt_mask = (tgt != pad).unsqueeze(-2)\n",
        "        tgt_mask = tgt_mask & Variable(subsequent_mask(tgt.size(-1)).type_as(tgt_mask.data))\n",
        "        \n",
        "        return tgt_mask"
      ]
    },
    {
      "cell_type": "markdown",
      "metadata": {
        "id": "hLvgYk3Dp5-a"
      },
      "source": [
        "### Loop de treinamento\n",
        "Em seguida, criamos uma função genérica de treinamento e pontuação para acompanhar a perda. Passamos em uma função de cálculo de perda (loss) genérica que também lida com atualizações de parâmetros."
      ]
    },
    {
      "cell_type": "code",
      "execution_count": 27,
      "metadata": {
        "id": "NQMkj2G7p2Md"
      },
      "outputs": [],
      "source": [
        "def run_epoch(data_iter, model, loss_compute):\n",
        "    '''\n",
        "    Standard Training and Logging Function\n",
        "    '''\n",
        "    start = time.time()\n",
        "    \n",
        "    total_tokens = 0\n",
        "    total_loss = 0\n",
        "    tokens = 0\n",
        "    \n",
        "    for i, batch in enumerate(data_iter):\n",
        "        out = model.forward(\n",
        "            batch.src, \n",
        "            batch.trg, \n",
        "            batch.src_mask, \n",
        "            batch.trg_mask\n",
        "        )\n",
        "        \n",
        "        loss = loss_compute(out, batch.trg_y, batch.ntokens)\n",
        "        total_loss += loss\n",
        "        total_tokens += batch.ntokens\n",
        "        tokens += batch.ntokens\n",
        "        \n",
        "        if i % 50 == 1:\n",
        "            elapsed = time.time() - start\n",
        "            print(\"Epoch Step: %d Loss: %f Tokens per Sec: %f\" %\n",
        "                    (i, loss / batch.ntokens, tokens / elapsed))\n",
        "            start = time.time()\n",
        "            tokens = 0\n",
        "    \n",
        "    return total_loss / total_tokens"
      ]
    },
    {
      "cell_type": "markdown",
      "metadata": {
        "id": "PbooV3COqO4f"
      },
      "source": [
        "### Batching\n",
        "Os pares de sentenças foram agrupados pelo comprimento aproximado da sequência. Cada lote de treinamento continha um conjunto de pares de frases contendo aproximadamente 25.000 tokens de origem e 25.000 tokens de destino.\n",
        "\n",
        "Usaremos a biblioteca torchtext para lotes. Isso é discutido com mais detalhes abaixo. Aqui, criamos lotes em uma função torchtext que garante que nosso tamanho de lote preenchido até o tamanho máximo de lote não ultrapasse um limite (25.000, no caso dos autores originais que tinham 8 GPUs).\n"
      ]
    },
    {
      "cell_type": "code",
      "execution_count": 28,
      "metadata": {
        "id": "CmOEQ6-2p_7N"
      },
      "outputs": [],
      "source": [
        "def batch_size_fn(new, count, sofar):\n",
        "    '''\n",
        "    Keep augmenting batch and calculate total number of tokens + padding.\n",
        "    '''\n",
        "    global max_src_in_batch, max_tgt_in_batch\n",
        "    \n",
        "    if count == 1:\n",
        "        max_src_in_batch = 0\n",
        "        max_tgt_in_batch = 0\n",
        "    \n",
        "    max_src_in_batch = max(max_src_in_batch,  len(new.src))\n",
        "    max_tgt_in_batch = max(max_tgt_in_batch,  len(new.trg) + 2)\n",
        "    \n",
        "    src_elements = count * max_src_in_batch\n",
        "    tgt_elements = count * max_tgt_in_batch\n",
        "    \n",
        "    return max(src_elements, tgt_elements)"
      ]
    },
    {
      "cell_type": "markdown",
      "metadata": {
        "id": "Y3r1mm5ShQ1-"
      },
      "source": [
        "### Hardware e cronograma\n",
        "Os autores originais treinaram os modelos em uma máquina com 8 GPUs NVIDIA P100. Para os modelos de base usando os hiperparâmetros descritos ao longo do artigo, cada etapa de treinamento levou cerca de 0,4 segundos. Treinaram os modelos básicos para um total de 100.000 passos ou 12 horas. Para os modelos grandes, o tempo de passo foi de 1,0 segundos. Os grandes modelos foram treinados para 300.000 passos (3,5 dias).\n"
      ]
    },
    {
      "cell_type": "markdown",
      "metadata": {
        "id": "EUTMEMBdqWXP"
      },
      "source": [
        "### Otimizador\n",
        "Foi utilizado o otimizador [Adam](https://arxiv.org/abs/1412.6980) com $ \\beta_1=0.9 $, $ \\beta_2=0.98 $ e $ \\epsilon=10^{-9} $. Variamos a taxa de aprendizado ao longo do treinamento, de acordo com a fórmula: $ lrate = d_{\\text{model}}^{-0.5} \\cdot \\min({step\\_num}^{-0.5}, {step\\_num} \\cdot {warmup\\_steps}^{-1.5}) $. Isso corresponde a aumentar a taxa de aprendizado linearmente para o primeiro $ {warmup\\_steps} $ dos passos de treinamento, e diminuindo a partir daí proporcionalmente à raiz quadrada inversa do número do passo. Utilizamos $ {warmup\\_steps} = 4.000 $.\n",
        "\n"
      ]
    },
    {
      "cell_type": "code",
      "execution_count": 29,
      "metadata": {
        "id": "X-cQ3iynqRod"
      },
      "outputs": [],
      "source": [
        "class NoamOpt:\n",
        "    '''\n",
        "    Optim wrapper that implements rate.\n",
        "    '''    \n",
        "    def __init__(self, model_size, factor, warmup, optimizer):\n",
        "        self.optimizer = optimizer\n",
        "        self._step = 0\n",
        "        self.warmup = warmup\n",
        "        self.factor = factor\n",
        "        self.model_size = model_size\n",
        "        self._rate = 0\n",
        "        \n",
        "    def step(self):\n",
        "        '''\n",
        "        Update parameters and rate\n",
        "        '''\n",
        "        self._step += 1\n",
        "        \n",
        "        rate = self.rate()\n",
        "        \n",
        "        for p in self.optimizer.param_groups:\n",
        "            p['lr'] = rate\n",
        "        \n",
        "        self._rate = rate\n",
        "        self.optimizer.step()\n",
        "        \n",
        "    def rate(self, step = None):\n",
        "        '''\n",
        "        Implement 'lrate' above\n",
        "        '''\n",
        "        if step is None:\n",
        "            step = self._step\n",
        "        \n",
        "        return self.factor * ( \n",
        "            self.model_size ** (-0.5) * min(step ** (-0.5), \n",
        "            step * self.warmup ** (-1.5))\n",
        "        )\n",
        "        \n",
        "def get_std_opt(model):\n",
        "    return NoamOpt(model.src_embed[0].d_model, factor, warmup_steps,\n",
        "            torch.optim.Adam(model.parameters(), lr = lr, betas = betas, eps = eps))"
      ]
    },
    {
      "cell_type": "markdown",
      "metadata": {
        "id": "Qm-8bTL_jP7F"
      },
      "source": [
        "Exemplo das curvas deste modelo para diferentes tamanhos de modelo e para hiperparâmetros de otimização."
      ]
    },
    {
      "cell_type": "code",
      "execution_count": 30,
      "metadata": {
        "colab": {
          "base_uri": "https://localhost:8080/",
          "height": 279
        },
        "id": "8aExfS6KqZyV",
        "outputId": "54a67ba3-8e86-4b48-d985-0a984fe9fff5"
      },
      "outputs": [
        {
          "data": {
            "image/png": "[encoded data removed]",
            "text/plain": [
              "<Figure size 432x288 with 1 Axes>"
            ]
          },
          "metadata": {
            "needs_background": "light"
          },
          "output_type": "display_data"
        }
      ],
      "source": [
        "# Three settings of the lrate hyperparameters.\n",
        "opts = [NoamOpt(512, 1, 4000, None), \n",
        "        NoamOpt(512, 1, 8000, None),\n",
        "        NoamOpt(256, 1, 4000, None)]\n",
        "\n",
        "plt.plot(np.arange(1, 20000), [[opt.rate(i) for opt in opts] for i in range(1, 20000)])\n",
        "plt.legend([\"512:4000\", \"512:8000\", \"256:4000\"])\n",
        "\n",
        "plt.show()"
      ]
    },
    {
      "cell_type": "markdown",
      "metadata": {
        "id": "3r53pvIQq902"
      },
      "source": [
        "### Suavização de rótulos\n",
        "Durante o treinamento, empregamos a [suavização de rótulos](https://arxiv.org/abs/1512.00567) com valor $ \\epsilon_{ls} = 0.1 $. Isso prejudica a perplexidade, pois o modelo aprende a ser mais inseguro, mas melhora a precisão e a pontuação BLEU. \n",
        "\n",
        "Implementamos a suavização de rótulos usando a [perda de div KL](https://pytorch.org/docs/stable/generated/torch.nn.KLDivLoss.html). Em vez de usar uma distribuição de destino único ( one-hot target distribution ), criamos uma distribuição que tem *confiança* na palavra correta e no restante da massa de *suavização* distribuída por todo o vocabulário."
      ]
    },
    {
      "cell_type": "code",
      "execution_count": 31,
      "metadata": {
        "id": "TQ1aXAWAqjLt"
      },
      "outputs": [],
      "source": [
        "class LabelSmoothing(nn.Module):\n",
        "    '''\n",
        "    Implement label smoothing.\n",
        "    '''\n",
        "    def __init__(self, size, padding_idx, smoothing):\n",
        "        super(LabelSmoothing, self).__init__()\n",
        "        \n",
        "        self.criterion = nn.KLDivLoss(size_average = False)\n",
        "        self.padding_idx = padding_idx\n",
        "        self.confidence = 1.0 - smoothing\n",
        "        self.smoothing = smoothing\n",
        "        self.size = size\n",
        "        self.true_dist = None\n",
        "        \n",
        "    def forward(self, x, target):\n",
        "        assert x.size(1) == self.size\n",
        "        \n",
        "        true_dist = x.data.clone()\n",
        "        true_dist.fill_(self.smoothing / (self.size - 2))\n",
        "        true_dist.scatter_(1, target.data.unsqueeze(1).long(), self.confidence)\n",
        "        true_dist[:, self.padding_idx] = 0\n",
        "        \n",
        "        mask = torch.nonzero(target.data == self.padding_idx)\n",
        "        \n",
        "        if mask.dim() > 0:\n",
        "            true_dist.index_fill_(0, mask.squeeze(), 0.0)\n",
        "        \n",
        "        self.true_dist = true_dist\n",
        "        \n",
        "        return self.criterion(x, Variable(true_dist, requires_grad = False))"
      ]
    },
    {
      "cell_type": "markdown",
      "metadata": {
        "id": "XegldZg3lZ2W"
      },
      "source": [
        "A suavização de rótulos na verdade começa a penalizar o modelo se ele ficar muito confiante sobre uma determinada escolha."
      ]
    },
    {
      "cell_type": "code",
      "execution_count": 32,
      "metadata": {
        "colab": {
          "base_uri": "https://localhost:8080/",
          "height": 314
        },
        "id": "keVODnJ7rCt9",
        "outputId": "2ac5d931-1963-4d09-f436-4e783f5a8a0c"
      },
      "outputs": [
        {
          "name": "stderr",
          "output_type": "stream",
          "text": [
            "C:\\Users\\User\\AppData\\Local\\Programs\\Python\\Python39\\lib\\site-packages\\torch\\nn\\_reduction.py:42: UserWarning: size_average and reduce args will be deprecated, please use reduction='sum' instead.\n",
            "  warnings.warn(warning.format(ret))\n"
          ]
        },
        {
          "data": {
            "image/png": "[encoded data removed]",
            "text/plain": [
              "<Figure size 432x288 with 1 Axes>"
            ]
          },
          "metadata": {
            "needs_background": "light"
          },
          "output_type": "display_data"
        }
      ],
      "source": [
        "crit = LabelSmoothing(5, 0, 0.1)\n",
        "\n",
        "def loss(x):\n",
        "    d = x + 3\n",
        "    \n",
        "    predict = torch.FloatTensor([[0, x /d, 1/ d, 1/ d, 1/ d],])\n",
        "    \n",
        "    return crit(Variable(predict.log()),Variable(torch.LongTensor([1]))).data\n",
        "\n",
        "plt.plot(np.arange(1, 100), [loss(x) for x in range(1, 100)])\n",
        "plt.show()"
      ]
    },
    {
      "cell_type": "markdown",
      "metadata": {
        "id": "2Mhv_0YksA3p"
      },
      "source": [
        "## Teste\n",
        "Podemos começar experimentando uma tarefa de cópia simples. Dado um conjunto aleatório de símbolos de entrada de um pequeno vocabulário, o objetivo é gerar de volta esses mesmos símbolos."
      ]
    },
    {
      "cell_type": "markdown",
      "metadata": {
        "id": "Gt2LnKQssE1W"
      },
      "source": [
        "### Dados sintéticos"
      ]
    },
    {
      "cell_type": "code",
      "execution_count": 33,
      "metadata": {
        "id": "RYu-sogarKJV"
      },
      "outputs": [],
      "source": [
        "def data_gen(V, batch, nbatches):\n",
        "    '''\n",
        "    Generate random data for a src-tgt copy task.\n",
        "    '''\n",
        "    for i in range(nbatches):\n",
        "        data = torch.from_numpy(np.random.randint(1, V, size = (batch, 10)))\n",
        "        data[:, 0] = 1\n",
        "        \n",
        "        src = Variable(data, requires_grad = False)\n",
        "        tgt = Variable(data, requires_grad = False)\n",
        "        \n",
        "        yield Batch(src, tgt, 0)"
      ]
    },
    {
      "cell_type": "markdown",
      "metadata": {
        "id": "WJoIfDE_sIeH"
      },
      "source": [
        "### Perda computacional"
      ]
    },
    {
      "cell_type": "code",
      "execution_count": 34,
      "metadata": {
        "id": "vYIsQks7sHg2"
      },
      "outputs": [],
      "source": [
        "class SimpleLossCompute:\n",
        "    '''\n",
        "    A simple loss compute and train function.\n",
        "    '''\n",
        "    def __init__(self, generator, criterion, opt = None):\n",
        "        self.generator = generator\n",
        "        self.criterion = criterion\n",
        "        self.opt = opt\n",
        "        \n",
        "    def __call__(self, x, y, norm):\n",
        "        x = self.generator(x)\n",
        "        \n",
        "        loss = self.criterion(\n",
        "            x.contiguous().view(-1, x.size(-1)), \n",
        "            y.contiguous().view(-1)\n",
        "        )/ norm\n",
        "        \n",
        "        loss.backward()\n",
        "        \n",
        "        if self.opt is not None:\n",
        "            self.opt.step()\n",
        "            self.opt.optimizer.zero_grad()\n",
        "        \n",
        "        return loss.data * norm"
      ]
    },
    {
      "cell_type": "markdown",
      "metadata": {
        "id": "MVxlMJh3sLRC"
      },
      "source": [
        "### Decodificação gulosa"
      ]
    },
    {
      "cell_type": "code",
      "execution_count": 35,
      "metadata": {
        "colab": {
          "base_uri": "https://localhost:8080/"
        },
        "id": "cO3gWKplsKsm",
        "outputId": "58d2bdbf-93e3-48dc-dcc3-e7ba763a5e08"
      },
      "outputs": [
        {
          "name": "stderr",
          "output_type": "stream",
          "text": [
            "C:\\Users\\User\\AppData\\Local\\Programs\\Python\\Python39\\lib\\site-packages\\torch\\nn\\_reduction.py:42: UserWarning: size_average and reduce args will be deprecated, please use reduction='sum' instead.\n",
            "  warnings.warn(warning.format(ret))\n"
          ]
        },
        {
          "name": "stdout",
          "output_type": "stream",
          "text": [
            "Epoch Step: 1 Loss: 3.162634 Tokens per Sec: 983.480957\n",
            "Epoch Step: 1 Loss: 1.987137 Tokens per Sec: 1431.348389\n",
            "tensor(1.9851)\n",
            "Epoch Step: 1 Loss: 2.059660 Tokens per Sec: 1086.764160\n",
            "Epoch Step: 1 Loss: 1.685951 Tokens per Sec: 1613.753662\n",
            "tensor(1.7238)\n"
          ]
        }
      ],
      "source": [
        "# Train the simple copy task.\n",
        "criterion = LabelSmoothing(size = V, padding_idx = 0, smoothing = smoothing)\n",
        "\n",
        "model = make_model(V, V, N = 2, d_model = d_model, d_ff = d_ff, h = h, dropout = dropout).to(device)\n",
        "model_opt = NoamOpt(\n",
        "    model.src_embed[0].d_model, \n",
        "    1, 400,\n",
        "    torch.optim.Adam(model.parameters(), lr = lr, betas = betas, eps = eps)\n",
        ")\n",
        "\n",
        "for epoch in range(n_epochs):\n",
        "    model.train()\n",
        "    \n",
        "    run_epoch(\n",
        "        data_gen(V, 30, 20), model, \n",
        "        SimpleLossCompute(model.generator, criterion, model_opt)\n",
        "    )\n",
        "    \n",
        "    model.eval()\n",
        "    \n",
        "    print(\n",
        "        run_epoch(data_gen(V, 30, 5), model, \n",
        "        SimpleLossCompute(model.generator, criterion, None))\n",
        "    )"
      ]
    },
    {
      "cell_type": "markdown",
      "metadata": {
        "id": "FLTQ3xwjmXzT"
      },
      "source": [
        "Este código prevê uma tradução usando decodificação gulosa para simplificar."
      ]
    },
    {
      "cell_type": "code",
      "execution_count": 36,
      "metadata": {
        "id": "cj10YjrIsPX-"
      },
      "outputs": [],
      "source": [
        "def greedy_decode(model, src, src_mask, max_len, start_symbol):\n",
        "    memory = model.encode(src, src_mask)\n",
        "    \n",
        "    ys = torch.ones(1, 1).fill_(start_symbol).type_as(src.data)\n",
        "    \n",
        "    for i in range(max_len - 1):\n",
        "        out = model.decode(\n",
        "            memory, src_mask, \n",
        "            Variable(ys), \n",
        "            Variable(subsequent_mask(ys.size(1)).type_as(src.data))\n",
        "        )\n",
        "        \n",
        "        prob = model.generator(out[:, -1])\n",
        "        \n",
        "        _, next_word = torch.max(prob, dim = 1)\n",
        "        next_word = next_word.data[0]\n",
        "        \n",
        "        ys = torch.cat([\n",
        "            ys, \n",
        "            torch.ones(1, 1).type_as(src.data).fill_(next_word)\n",
        "        ], dim=1)\n",
        "    \n",
        "    return ys"
      ]
    },
    {
      "cell_type": "code",
      "execution_count": 37,
      "metadata": {
        "colab": {
          "base_uri": "https://localhost:8080/"
        },
        "id": "Zhsrf1VHnEPT",
        "outputId": "44dea46f-444d-4e5d-d622-6c855952abc5"
      },
      "outputs": [
        {
          "name": "stdout",
          "output_type": "stream",
          "text": [
            "tensor([[ 1,  4,  2,  3, 10,  8,  4,  2,  4,  3]])\n"
          ]
        }
      ],
      "source": [
        "model.eval()\n",
        "src = Variable(torch.LongTensor([[1, 2, 3, 4, 5, 6, 7, 8, 9, 10]]))\n",
        "src_mask = Variable(torch.ones(1, 1, 10))\n",
        "\n",
        "print(greedy_decode(model, src, src_mask, max_len = 10, start_symbol = 1))"
      ]
    },
    {
      "cell_type": "markdown",
      "metadata": {
        "id": "blAgmw1Us_BN"
      },
      "source": [
        "## Exemplo real\n",
        "Agora consideramos um exemplo do mundo real usando a tarefa de tradução alemão-inglês [Multi30k](https://paperswithcode.com/dataset/multi30k-1). Esta tarefa é muito menor do que a tarefa WMT considerada no artigo, mas ilustra todo o sistema.\n"
      ]
    },
    {
      "cell_type": "code",
      "execution_count": 38,
      "metadata": {
        "colab": {
          "base_uri": "https://localhost:8080/"
        },
        "id": "TvNDOnUosd3T",
        "outputId": "b1cb9134-be8b-4791-a6a1-8aceb72c0ebd"
      },
      "outputs": [
        {
          "name": "stdout",
          "output_type": "stream",
          "text": [
            "Requirement already satisfied: torchtext in c:\\users\\user\\appdata\\local\\programs\\python\\python39\\lib\\site-packages (0.9.0)\n",
            "Requirement already satisfied: torch==1.8.0 in c:\\users\\user\\appdata\\local\\programs\\python\\python39\\lib\\site-packages (from torchtext) (1.8.0)\n",
            "Requirement already satisfied: tqdm in c:\\users\\user\\appdata\\local\\programs\\python\\python39\\lib\\site-packages (from torchtext) (4.63.0)\n",
            "Requirement already satisfied: numpy in c:\\users\\user\\appdata\\local\\programs\\python\\python39\\lib\\site-packages (from torchtext) (1.22.3)\n",
            "Requirement already satisfied: requests in c:\\users\\user\\appdata\\local\\programs\\python\\python39\\lib\\site-packages (from torchtext) (2.27.1)\n",
            "Requirement already satisfied: typing-extensions in c:\\users\\user\\appdata\\local\\programs\\python\\python39\\lib\\site-packages (from torch==1.8.0->torchtext) (4.1.1)\n",
            "Requirement already satisfied: certifi>=2017.4.17 in c:\\users\\user\\appdata\\local\\programs\\python\\python39\\lib\\site-packages (from requests->torchtext) (2021.10.8)\n",
            "Requirement already satisfied: charset-normalizer~=2.0.0 in c:\\users\\user\\appdata\\local\\programs\\python\\python39\\lib\\site-packages (from requests->torchtext) (2.0.12)\n",
            "Requirement already satisfied: urllib3<1.27,>=1.21.1 in c:\\users\\user\\appdata\\local\\programs\\python\\python39\\lib\\site-packages (from requests->torchtext) (1.26.8)\n",
            "Requirement already satisfied: idna<4,>=2.5 in c:\\users\\user\\appdata\\local\\programs\\python\\python39\\lib\\site-packages (from requests->torchtext) (3.3)\n",
            "Requirement already satisfied: colorama in c:\\users\\user\\appdata\\local\\programs\\python\\python39\\lib\\site-packages (from tqdm->torchtext) (0.4.4)\n",
            "Note: you may need to restart the kernel to use updated packages.\n"
          ]
        },
        {
          "name": "stderr",
          "output_type": "stream",
          "text": [
            "WARNING: You are using pip version 21.2.4; however, version 22.0.4 is available.\n",
            "You should consider upgrading via the 'C:\\Users\\User\\AppData\\Local\\Programs\\Python\\Python39\\python.exe -m pip install --upgrade pip' command.\n"
          ]
        },
        {
          "name": "stdout",
          "output_type": "stream",
          "text": [
            "Requirement already satisfied: spacy in c:\\users\\user\\appdata\\local\\programs\\python\\python39\\lib\\site-packages (3.2.3)\n",
            "Requirement already satisfied: requests<3.0.0,>=2.13.0 in c:\\users\\user\\appdata\\local\\programs\\python\\python39\\lib\\site-packages (from spacy) (2.27.1)\n",
            "Requirement already satisfied: setuptools in c:\\users\\user\\appdata\\local\\programs\\python\\python39\\lib\\site-packages (from spacy) (58.1.0)\n",
            "Requirement already satisfied: jinja2 in c:\\users\\user\\appdata\\local\\programs\\python\\python39\\lib\\site-packages (from spacy) (3.0.3)\n",
            "Requirement already satisfied: blis<0.8.0,>=0.4.0 in c:\\users\\user\\appdata\\local\\programs\\python\\python39\\lib\\site-packages (from spacy) (0.7.6)\n",
            "Requirement already satisfied: thinc<8.1.0,>=8.0.12 in c:\\users\\user\\appdata\\local\\programs\\python\\python39\\lib\\site-packages (from spacy) (8.0.15)\n",
            "Requirement already satisfied: spacy-legacy<3.1.0,>=3.0.8 in c:\\users\\user\\appdata\\local\\programs\\python\\python39\\lib\\site-packages (from spacy) (3.0.9)\n",
            "Requirement already satisfied: catalogue<2.1.0,>=2.0.6 in c:\\users\\user\\appdata\\local\\programs\\python\\python39\\lib\\site-packages (from spacy) (2.0.6)\n",
            "Requirement already satisfied: wasabi<1.1.0,>=0.8.1 in c:\\users\\user\\appdata\\local\\programs\\python\\python39\\lib\\site-packages (from spacy) (0.9.0)\n",
            "Requirement already satisfied: pydantic!=1.8,!=1.8.1,<1.9.0,>=1.7.4 in c:\\users\\user\\appdata\\local\\programs\\python\\python39\\lib\\site-packages (from spacy) (1.8.2)\n",
            "Requirement already satisfied: cymem<2.1.0,>=2.0.2 in c:\\users\\user\\appdata\\local\\programs\\python\\python39\\lib\\site-packages (from spacy) (2.0.6)\n",
            "Requirement already satisfied: numpy>=1.15.0 in c:\\users\\user\\appdata\\local\\programs\\python\\python39\\lib\\site-packages (from spacy) (1.22.3)\n",
            "Requirement already satisfied: murmurhash<1.1.0,>=0.28.0 in c:\\users\\user\\appdata\\local\\programs\\python\\python39\\lib\\site-packages (from spacy) (1.0.6)\n",
            "Requirement already satisfied: packaging>=20.0 in c:\\users\\user\\appdata\\local\\programs\\python\\python39\\lib\\site-packages (from spacy) (21.3)\n",
            "Requirement already satisfied: typer<0.5.0,>=0.3.0 in c:\\users\\user\\appdata\\local\\programs\\python\\python39\\lib\\site-packages (from spacy) (0.4.0)\n",
            "Requirement already satisfied: langcodes<4.0.0,>=3.2.0 in c:\\users\\user\\appdata\\local\\programs\\python\\python39\\lib\\site-packages (from spacy) (3.3.0)\n",
            "Requirement already satisfied: preshed<3.1.0,>=3.0.2 in c:\\users\\user\\appdata\\local\\programs\\python\\python39\\lib\\site-packages (from spacy) (3.0.6)\n",
            "Requirement already satisfied: pathy>=0.3.5 in c:\\users\\user\\appdata\\local\\programs\\python\\python39\\lib\\site-packages (from spacy) (0.6.1)\n",
            "Requirement already satisfied: tqdm<5.0.0,>=4.38.0 in c:\\users\\user\\appdata\\local\\programs\\python\\python39\\lib\\site-packages (from spacy) (4.63.0)\n",
            "Requirement already satisfied: spacy-loggers<2.0.0,>=1.0.0 in c:\\users\\user\\appdata\\local\\programs\\python\\python39\\lib\\site-packages (from spacy) (1.0.1)\n",
            "Requirement already satisfied: srsly<3.0.0,>=2.4.1 in c:\\users\\user\\appdata\\local\\programs\\python\\python39\\lib\\site-packages (from spacy) (2.4.2)\n",
            "Requirement already satisfied: pyparsing!=3.0.5,>=2.0.2 in c:\\users\\user\\appdata\\local\\programs\\python\\python39\\lib\\site-packages (from packaging>=20.0->spacy) (3.0.7)\n",
            "Requirement already satisfied: smart-open<6.0.0,>=5.0.0 in c:\\users\\user\\appdata\\local\\programs\\python\\python39\\lib\\site-packages (from pathy>=0.3.5->spacy) (5.2.1)\n",
            "Requirement already satisfied: typing-extensions>=3.7.4.3 in c:\\users\\user\\appdata\\local\\programs\\python\\python39\\lib\\site-packages (from pydantic!=1.8,!=1.8.1,<1.9.0,>=1.7.4->spacy) (4.1.1)\n",
            "Requirement already satisfied: urllib3<1.27,>=1.21.1 in c:\\users\\user\\appdata\\local\\programs\\python\\python39\\lib\\site-packages (from requests<3.0.0,>=2.13.0->spacy) (1.26.8)\n",
            "Requirement already satisfied: certifi>=2017.4.17 in c:\\users\\user\\appdata\\local\\programs\\python\\python39\\lib\\site-packages (from requests<3.0.0,>=2.13.0->spacy) (2021.10.8)\n",
            "Requirement already satisfied: charset-normalizer~=2.0.0 in c:\\users\\user\\appdata\\local\\programs\\python\\python39\\lib\\site-packages (from requests<3.0.0,>=2.13.0->spacy) (2.0.12)\n",
            "Requirement already satisfied: idna<4,>=2.5 in c:\\users\\user\\appdata\\local\\programs\\python\\python39\\lib\\site-packages (from requests<3.0.0,>=2.13.0->spacy) (3.3)\n",
            "Requirement already satisfied: colorama in c:\\users\\user\\appdata\\local\\programs\\python\\python39\\lib\\site-packages (from tqdm<5.0.0,>=4.38.0->spacy) (0.4.4)\n",
            "Requirement already satisfied: click<9.0.0,>=7.1.1 in c:\\users\\user\\appdata\\local\\programs\\python\\python39\\lib\\site-packages (from typer<0.5.0,>=0.3.0->spacy) (8.0.4)\n",
            "Requirement already satisfied: MarkupSafe>=2.0 in c:\\users\\user\\appdata\\local\\programs\\python\\python39\\lib\\site-packages (from jinja2->spacy) (2.1.0)\n",
            "Note: you may need to restart the kernel to use updated packages.\n"
          ]
        },
        {
          "name": "stderr",
          "output_type": "stream",
          "text": [
            "WARNING: You are using pip version 21.2.4; however, version 22.0.4 is available.\n",
            "You should consider upgrading via the 'C:\\Users\\User\\AppData\\Local\\Programs\\Python\\Python39\\python.exe -m pip install --upgrade pip' command.\n"
          ]
        },
        {
          "name": "stdout",
          "output_type": "stream",
          "text": [
            "⚠ As of spaCy v3.0, shortcuts like 'en' are deprecated. Please use the full\n",
            "pipeline package name 'en_core_web_sm' instead.\n",
            "Collecting en-core-web-sm==3.2.0\n",
            "  Downloading https://github.com/explosion/spacy-models/releases/download/en_core_web_sm-3.2.0/en_core_web_sm-3.2.0-py3-none-any.whl (13.9 MB)\n",
            "Requirement already satisfied: spacy<3.3.0,>=3.2.0 in c:\\users\\user\\appdata\\local\\programs\\python\\python39\\lib\\site-packages (from en-core-web-sm==3.2.0) (3.2.3)\n",
            "Requirement already satisfied: tqdm<5.0.0,>=4.38.0 in c:\\users\\user\\appdata\\local\\programs\\python\\python39\\lib\\site-packages (from spacy<3.3.0,>=3.2.0->en-core-web-sm==3.2.0) (4.63.0)\n",
            "Requirement already satisfied: pathy>=0.3.5 in c:\\users\\user\\appdata\\local\\programs\\python\\python39\\lib\\site-packages (from spacy<3.3.0,>=3.2.0->en-core-web-sm==3.2.0) (0.6.1)\n",
            "Requirement already satisfied: blis<0.8.0,>=0.4.0 in c:\\users\\user\\appdata\\local\\programs\\python\\python39\\lib\\site-packages (from spacy<3.3.0,>=3.2.0->en-core-web-sm==3.2.0) (0.7.6)\n",
            "Requirement already satisfied: catalogue<2.1.0,>=2.0.6 in c:\\users\\user\\appdata\\local\\programs\\python\\python39\\lib\\site-packages (from spacy<3.3.0,>=3.2.0->en-core-web-sm==3.2.0) (2.0.6)\n",
            "Requirement already satisfied: spacy-legacy<3.1.0,>=3.0.8 in c:\\users\\user\\appdata\\local\\programs\\python\\python39\\lib\\site-packages (from spacy<3.3.0,>=3.2.0->en-core-web-sm==3.2.0) (3.0.9)\n",
            "Requirement already satisfied: numpy>=1.15.0 in c:\\users\\user\\appdata\\local\\programs\\python\\python39\\lib\\site-packages (from spacy<3.3.0,>=3.2.0->en-core-web-sm==3.2.0) (1.22.3)\n",
            "Requirement already satisfied: requests<3.0.0,>=2.13.0 in c:\\users\\user\\appdata\\local\\programs\\python\\python39\\lib\\site-packages (from spacy<3.3.0,>=3.2.0->en-core-web-sm==3.2.0) (2.27.1)\n",
            "Requirement already satisfied: setuptools in c:\\users\\user\\appdata\\local\\programs\\python\\python39\\lib\\site-packages (from spacy<3.3.0,>=3.2.0->en-core-web-sm==3.2.0) (58.1.0)\n",
            "Requirement already satisfied: langcodes<4.0.0,>=3.2.0 in c:\\users\\user\\appdata\\local\\programs\\python\\python39\\lib\\site-packages (from spacy<3.3.0,>=3.2.0->en-core-web-sm==3.2.0) (3.3.0)\n",
            "Requirement already satisfied: thinc<8.1.0,>=8.0.12 in c:\\users\\user\\appdata\\local\\programs\\python\\python39\\lib\\site-packages (from spacy<3.3.0,>=3.2.0->en-core-web-sm==3.2.0) (8.0.15)\n",
            "Requirement already satisfied: srsly<3.0.0,>=2.4.1 in c:\\users\\user\\appdata\\local\\programs\\python\\python39\\lib\\site-packages (from spacy<3.3.0,>=3.2.0->en-core-web-sm==3.2.0) (2.4.2)\n",
            "Requirement already satisfied: packaging>=20.0 in c:\\users\\user\\appdata\\local\\programs\\python\\python39\\lib\\site-packages (from spacy<3.3.0,>=3.2.0->en-core-web-sm==3.2.0) (21.3)\n",
            "Requirement already satisfied: preshed<3.1.0,>=3.0.2 in c:\\users\\user\\appdata\\local\\programs\\python\\python39\\lib\\site-packages (from spacy<3.3.0,>=3.2.0->en-core-web-sm==3.2.0) (3.0.6)\n",
            "Requirement already satisfied: murmurhash<1.1.0,>=0.28.0 in c:\\users\\user\\appdata\\local\\programs\\python\\python39\\lib\\site-packages (from spacy<3.3.0,>=3.2.0->en-core-web-sm==3.2.0) (1.0.6)\n",
            "Requirement already satisfied: spacy-loggers<2.0.0,>=1.0.0 in c:\\users\\user\\appdata\\local\\programs\\python\\python39\\lib\\site-packages (from spacy<3.3.0,>=3.2.0->en-core-web-sm==3.2.0) (1.0.1)\n",
            "Requirement already satisfied: pydantic!=1.8,!=1.8.1,<1.9.0,>=1.7.4 in c:\\users\\user\\appdata\\local\\programs\\python\\python39\\lib\\site-packages (from spacy<3.3.0,>=3.2.0->en-core-web-sm==3.2.0) (1.8.2)\n",
            "Requirement already satisfied: cymem<2.1.0,>=2.0.2 in c:\\users\\user\\appdata\\local\\programs\\python\\python39\\lib\\site-packages (from spacy<3.3.0,>=3.2.0->en-core-web-sm==3.2.0) (2.0.6)\n",
            "Requirement already satisfied: wasabi<1.1.0,>=0.8.1 in c:\\users\\user\\appdata\\local\\programs\\python\\python39\\lib\\site-packages (from spacy<3.3.0,>=3.2.0->en-core-web-sm==3.2.0) (0.9.0)\n",
            "Requirement already satisfied: typer<0.5.0,>=0.3.0 in c:\\users\\user\\appdata\\local\\programs\\python\\python39\\lib\\site-packages (from spacy<3.3.0,>=3.2.0->en-core-web-sm==3.2.0) (0.4.0)\n",
            "Requirement already satisfied: jinja2 in c:\\users\\user\\appdata\\local\\programs\\python\\python39\\lib\\site-packages (from spacy<3.3.0,>=3.2.0->en-core-web-sm==3.2.0) (3.0.3)\n",
            "Requirement already satisfied: pyparsing!=3.0.5,>=2.0.2 in c:\\users\\user\\appdata\\local\\programs\\python\\python39\\lib\\site-packages (from packaging>=20.0->spacy<3.3.0,>=3.2.0->en-core-web-sm==3.2.0) (3.0.7)\n",
            "Requirement already satisfied: smart-open<6.0.0,>=5.0.0 in c:\\users\\user\\appdata\\local\\programs\\python\\python39\\lib\\site-packages (from pathy>=0.3.5->spacy<3.3.0,>=3.2.0->en-core-web-sm==3.2.0) (5.2.1)\n",
            "Requirement already satisfied: typing-extensions>=3.7.4.3 in c:\\users\\user\\appdata\\local\\programs\\python\\python39\\lib\\site-packages (from pydantic!=1.8,!=1.8.1,<1.9.0,>=1.7.4->spacy<3.3.0,>=3.2.0->en-core-web-sm==3.2.0) (4.1.1)\n",
            "Requirement already satisfied: charset-normalizer~=2.0.0 in c:\\users\\user\\appdata\\local\\programs\\python\\python39\\lib\\site-packages (from requests<3.0.0,>=2.13.0->spacy<3.3.0,>=3.2.0->en-core-web-sm==3.2.0) (2.0.12)\n",
            "Requirement already satisfied: certifi>=2017.4.17 in c:\\users\\user\\appdata\\local\\programs\\python\\python39\\lib\\site-packages (from requests<3.0.0,>=2.13.0->spacy<3.3.0,>=3.2.0->en-core-web-sm==3.2.0) (2021.10.8)\n",
            "Requirement already satisfied: idna<4,>=2.5 in c:\\users\\user\\appdata\\local\\programs\\python\\python39\\lib\\site-packages (from requests<3.0.0,>=2.13.0->spacy<3.3.0,>=3.2.0->en-core-web-sm==3.2.0) (3.3)\n",
            "Requirement already satisfied: urllib3<1.27,>=1.21.1 in c:\\users\\user\\appdata\\local\\programs\\python\\python39\\lib\\site-packages (from requests<3.0.0,>=2.13.0->spacy<3.3.0,>=3.2.0->en-core-web-sm==3.2.0) (1.26.8)\n",
            "Requirement already satisfied: colorama in c:\\users\\user\\appdata\\local\\programs\\python\\python39\\lib\\site-packages (from tqdm<5.0.0,>=4.38.0->spacy<3.3.0,>=3.2.0->en-core-web-sm==3.2.0) (0.4.4)\n",
            "Requirement already satisfied: click<9.0.0,>=7.1.1 in c:\\users\\user\\appdata\\local\\programs\\python\\python39\\lib\\site-packages (from typer<0.5.0,>=0.3.0->spacy<3.3.0,>=3.2.0->en-core-web-sm==3.2.0) (8.0.4)\n",
            "Requirement already satisfied: MarkupSafe>=2.0 in c:\\users\\user\\appdata\\local\\programs\\python\\python39\\lib\\site-packages (from jinja2->spacy<3.3.0,>=3.2.0->en-core-web-sm==3.2.0) (2.1.0)\n",
            "✔ Download and installation successful\n",
            "You can now load the package via spacy.load('en_core_web_sm')\n"
          ]
        },
        {
          "name": "stderr",
          "output_type": "stream",
          "text": [
            "WARNING: You are using pip version 21.2.4; however, version 22.0.4 is available.\n",
            "You should consider upgrading via the 'C:\\Users\\User\\AppData\\Local\\Programs\\Python\\Python39\\python.exe -m pip install --upgrade pip' command.\n"
          ]
        },
        {
          "name": "stdout",
          "output_type": "stream",
          "text": [
            "⚠ As of spaCy v3.0, shortcuts like 'de' are deprecated. Please use the full\n",
            "pipeline package name 'de_core_news_sm' instead.\n",
            "Collecting de-core-news-sm==3.2.0\n",
            "  Downloading https://github.com/explosion/spacy-models/releases/download/de_core_news_sm-3.2.0/de_core_news_sm-3.2.0-py3-none-any.whl (19.1 MB)\n",
            "Requirement already satisfied: spacy<3.3.0,>=3.2.0 in c:\\users\\user\\appdata\\local\\programs\\python\\python39\\lib\\site-packages (from de-core-news-sm==3.2.0) (3.2.3)\n",
            "Requirement already satisfied: spacy-loggers<2.0.0,>=1.0.0 in c:\\users\\user\\appdata\\local\\programs\\python\\python39\\lib\\site-packages (from spacy<3.3.0,>=3.2.0->de-core-news-sm==3.2.0) (1.0.1)\n",
            "Requirement already satisfied: srsly<3.0.0,>=2.4.1 in c:\\users\\user\\appdata\\local\\programs\\python\\python39\\lib\\site-packages (from spacy<3.3.0,>=3.2.0->de-core-news-sm==3.2.0) (2.4.2)\n",
            "Requirement already satisfied: spacy-legacy<3.1.0,>=3.0.8 in c:\\users\\user\\appdata\\local\\programs\\python\\python39\\lib\\site-packages (from spacy<3.3.0,>=3.2.0->de-core-news-sm==3.2.0) (3.0.9)\n",
            "Requirement already satisfied: thinc<8.1.0,>=8.0.12 in c:\\users\\user\\appdata\\local\\programs\\python\\python39\\lib\\site-packages (from spacy<3.3.0,>=3.2.0->de-core-news-sm==3.2.0) (8.0.15)\n",
            "Requirement already satisfied: catalogue<2.1.0,>=2.0.6 in c:\\users\\user\\appdata\\local\\programs\\python\\python39\\lib\\site-packages (from spacy<3.3.0,>=3.2.0->de-core-news-sm==3.2.0) (2.0.6)\n",
            "Requirement already satisfied: setuptools in c:\\users\\user\\appdata\\local\\programs\\python\\python39\\lib\\site-packages (from spacy<3.3.0,>=3.2.0->de-core-news-sm==3.2.0) (58.1.0)\n",
            "Requirement already satisfied: tqdm<5.0.0,>=4.38.0 in c:\\users\\user\\appdata\\local\\programs\\python\\python39\\lib\\site-packages (from spacy<3.3.0,>=3.2.0->de-core-news-sm==3.2.0) (4.63.0)\n",
            "Requirement already satisfied: requests<3.0.0,>=2.13.0 in c:\\users\\user\\appdata\\local\\programs\\python\\python39\\lib\\site-packages (from spacy<3.3.0,>=3.2.0->de-core-news-sm==3.2.0) (2.27.1)\n",
            "Requirement already satisfied: langcodes<4.0.0,>=3.2.0 in c:\\users\\user\\appdata\\local\\programs\\python\\python39\\lib\\site-packages (from spacy<3.3.0,>=3.2.0->de-core-news-sm==3.2.0) (3.3.0)\n",
            "Requirement already satisfied: typer<0.5.0,>=0.3.0 in c:\\users\\user\\appdata\\local\\programs\\python\\python39\\lib\\site-packages (from spacy<3.3.0,>=3.2.0->de-core-news-sm==3.2.0) (0.4.0)\n",
            "Requirement already satisfied: jinja2 in c:\\users\\user\\appdata\\local\\programs\\python\\python39\\lib\\site-packages (from spacy<3.3.0,>=3.2.0->de-core-news-sm==3.2.0) (3.0.3)\n",
            "Requirement already satisfied: pathy>=0.3.5 in c:\\users\\user\\appdata\\local\\programs\\python\\python39\\lib\\site-packages (from spacy<3.3.0,>=3.2.0->de-core-news-sm==3.2.0) (0.6.1)\n",
            "Requirement already satisfied: cymem<2.1.0,>=2.0.2 in c:\\users\\user\\appdata\\local\\programs\\python\\python39\\lib\\site-packages (from spacy<3.3.0,>=3.2.0->de-core-news-sm==3.2.0) (2.0.6)\n",
            "Requirement already satisfied: wasabi<1.1.0,>=0.8.1 in c:\\users\\user\\appdata\\local\\programs\\python\\python39\\lib\\site-packages (from spacy<3.3.0,>=3.2.0->de-core-news-sm==3.2.0) (0.9.0)\n",
            "Requirement already satisfied: blis<0.8.0,>=0.4.0 in c:\\users\\user\\appdata\\local\\programs\\python\\python39\\lib\\site-packages (from spacy<3.3.0,>=3.2.0->de-core-news-sm==3.2.0) (0.7.6)\n",
            "Requirement already satisfied: murmurhash<1.1.0,>=0.28.0 in c:\\users\\user\\appdata\\local\\programs\\python\\python39\\lib\\site-packages (from spacy<3.3.0,>=3.2.0->de-core-news-sm==3.2.0) (1.0.6)\n",
            "Requirement already satisfied: numpy>=1.15.0 in c:\\users\\user\\appdata\\local\\programs\\python\\python39\\lib\\site-packages (from spacy<3.3.0,>=3.2.0->de-core-news-sm==3.2.0) (1.22.3)\n",
            "Requirement already satisfied: pydantic!=1.8,!=1.8.1,<1.9.0,>=1.7.4 in c:\\users\\user\\appdata\\local\\programs\\python\\python39\\lib\\site-packages (from spacy<3.3.0,>=3.2.0->de-core-news-sm==3.2.0) (1.8.2)\n",
            "Requirement already satisfied: preshed<3.1.0,>=3.0.2 in c:\\users\\user\\appdata\\local\\programs\\python\\python39\\lib\\site-packages (from spacy<3.3.0,>=3.2.0->de-core-news-sm==3.2.0) (3.0.6)\n",
            "Requirement already satisfied: packaging>=20.0 in c:\\users\\user\\appdata\\local\\programs\\python\\python39\\lib\\site-packages (from spacy<3.3.0,>=3.2.0->de-core-news-sm==3.2.0) (21.3)\n",
            "Requirement already satisfied: pyparsing!=3.0.5,>=2.0.2 in c:\\users\\user\\appdata\\local\\programs\\python\\python39\\lib\\site-packages (from packaging>=20.0->spacy<3.3.0,>=3.2.0->de-core-news-sm==3.2.0) (3.0.7)\n",
            "Requirement already satisfied: smart-open<6.0.0,>=5.0.0 in c:\\users\\user\\appdata\\local\\programs\\python\\python39\\lib\\site-packages (from pathy>=0.3.5->spacy<3.3.0,>=3.2.0->de-core-news-sm==3.2.0) (5.2.1)\n",
            "Requirement already satisfied: typing-extensions>=3.7.4.3 in c:\\users\\user\\appdata\\local\\programs\\python\\python39\\lib\\site-packages (from pydantic!=1.8,!=1.8.1,<1.9.0,>=1.7.4->spacy<3.3.0,>=3.2.0->de-core-news-sm==3.2.0) (4.1.1)\n",
            "Requirement already satisfied: urllib3<1.27,>=1.21.1 in c:\\users\\user\\appdata\\local\\programs\\python\\python39\\lib\\site-packages (from requests<3.0.0,>=2.13.0->spacy<3.3.0,>=3.2.0->de-core-news-sm==3.2.0) (1.26.8)\n",
            "Requirement already satisfied: certifi>=2017.4.17 in c:\\users\\user\\appdata\\local\\programs\\python\\python39\\lib\\site-packages (from requests<3.0.0,>=2.13.0->spacy<3.3.0,>=3.2.0->de-core-news-sm==3.2.0) (2021.10.8)\n",
            "Requirement already satisfied: charset-normalizer~=2.0.0 in c:\\users\\user\\appdata\\local\\programs\\python\\python39\\lib\\site-packages (from requests<3.0.0,>=2.13.0->spacy<3.3.0,>=3.2.0->de-core-news-sm==3.2.0) (2.0.12)\n",
            "Requirement already satisfied: idna<4,>=2.5 in c:\\users\\user\\appdata\\local\\programs\\python\\python39\\lib\\site-packages (from requests<3.0.0,>=2.13.0->spacy<3.3.0,>=3.2.0->de-core-news-sm==3.2.0) (3.3)\n",
            "Requirement already satisfied: colorama in c:\\users\\user\\appdata\\local\\programs\\python\\python39\\lib\\site-packages (from tqdm<5.0.0,>=4.38.0->spacy<3.3.0,>=3.2.0->de-core-news-sm==3.2.0) (0.4.4)\n",
            "Requirement already satisfied: click<9.0.0,>=7.1.1 in c:\\users\\user\\appdata\\local\\programs\\python\\python39\\lib\\site-packages (from typer<0.5.0,>=0.3.0->spacy<3.3.0,>=3.2.0->de-core-news-sm==3.2.0) (8.0.4)\n",
            "Requirement already satisfied: MarkupSafe>=2.0 in c:\\users\\user\\appdata\\local\\programs\\python\\python39\\lib\\site-packages (from jinja2->spacy<3.3.0,>=3.2.0->de-core-news-sm==3.2.0) (2.1.0)\n",
            "✔ Download and installation successful\n",
            "You can now load the package via spacy.load('de_core_news_sm')\n"
          ]
        },
        {
          "name": "stderr",
          "output_type": "stream",
          "text": [
            "WARNING: You are using pip version 21.2.4; however, version 22.0.4 is available.\n",
            "You should consider upgrading via the 'C:\\Users\\User\\AppData\\Local\\Programs\\Python\\Python39\\python.exe -m pip install --upgrade pip' command.\n"
          ]
        }
      ],
      "source": [
        "%pip install torchtext --user\n",
        "%pip install spacy --user\n",
        "!python -m spacy download en\n",
        "!python -m spacy download de"
      ]
    },
    {
      "cell_type": "markdown",
      "metadata": {
        "id": "RJh3CfrCtNEM"
      },
      "source": [
        "### Carregamento de dados\n",
        "Vamos carregar o conjunto de dados usando torchtext e spacy para tokenização."
      ]
    },
    {
      "cell_type": "code",
      "execution_count": 39,
      "metadata": {},
      "outputs": [
        {
          "name": "stdout",
          "output_type": "stream",
          "text": [
            "Requirement already satisfied: torch==1.8.0 in c:\\users\\user\\appdata\\local\\programs\\python\\python39\\lib\\site-packages (1.8.0)\n",
            "Requirement already satisfied: torchtext==0.9.0 in c:\\users\\user\\appdata\\local\\programs\\python\\python39\\lib\\site-packages (0.9.0)\n",
            "Requirement already satisfied: typing-extensions in c:\\users\\user\\appdata\\local\\programs\\python\\python39\\lib\\site-packages (from torch==1.8.0) (4.1.1)\n",
            "Requirement already satisfied: numpy in c:\\users\\user\\appdata\\local\\programs\\python\\python39\\lib\\site-packages (from torch==1.8.0) (1.22.3)\n",
            "Requirement already satisfied: tqdm in c:\\users\\user\\appdata\\local\\programs\\python\\python39\\lib\\site-packages (from torchtext==0.9.0) (4.63.0)\n",
            "Requirement already satisfied: requests in c:\\users\\user\\appdata\\local\\programs\\python\\python39\\lib\\site-packages (from torchtext==0.9.0) (2.27.1)\n",
            "Requirement already satisfied: idna<4,>=2.5 in c:\\users\\user\\appdata\\local\\programs\\python\\python39\\lib\\site-packages (from requests->torchtext==0.9.0) (3.3)\n",
            "Requirement already satisfied: urllib3<1.27,>=1.21.1 in c:\\users\\user\\appdata\\local\\programs\\python\\python39\\lib\\site-packages (from requests->torchtext==0.9.0) (1.26.8)\n",
            "Requirement already satisfied: certifi>=2017.4.17 in c:\\users\\user\\appdata\\local\\programs\\python\\python39\\lib\\site-packages (from requests->torchtext==0.9.0) (2021.10.8)\n",
            "Requirement already satisfied: charset-normalizer~=2.0.0 in c:\\users\\user\\appdata\\local\\programs\\python\\python39\\lib\\site-packages (from requests->torchtext==0.9.0) (2.0.12)\n",
            "Requirement already satisfied: colorama in c:\\users\\user\\appdata\\local\\programs\\python\\python39\\lib\\site-packages (from tqdm->torchtext==0.9.0) (0.4.4)\n",
            "Note: you may need to restart the kernel to use updated packages.\n"
          ]
        },
        {
          "name": "stderr",
          "output_type": "stream",
          "text": [
            "WARNING: You are using pip version 21.2.4; however, version 22.0.4 is available.\n",
            "You should consider upgrading via the 'C:\\Users\\User\\AppData\\Local\\Programs\\Python\\Python39\\python.exe -m pip install --upgrade pip' command.\n"
          ]
        }
      ],
      "source": [
        "%pip install -U torch==1.8.0 torchtext==0.9.0"
      ]
    },
    {
      "cell_type": "code",
      "execution_count": 40,
      "metadata": {
        "id": "w7yiSeNHqQAE"
      },
      "outputs": [],
      "source": [
        "import torchtext\n",
        "from torchtext.legacy import data, datasets\n",
        "    \n",
        "import spacy\n",
        "\n",
        "spacy_de = spacy.load('de_core_news_sm')\n",
        "spacy_en = spacy.load('en_core_web_sm')"
      ]
    },
    {
      "cell_type": "code",
      "execution_count": 41,
      "metadata": {
        "id": "9VzInINmtD21"
      },
      "outputs": [],
      "source": [
        "def tokenize_de(text):\n",
        "    return [tok.text for tok in spacy_de.tokenizer(text)]\n",
        "\n",
        "def tokenize_en(text):\n",
        "    return [tok.text for tok in spacy_en.tokenizer(text)]"
      ]
    },
    {
      "cell_type": "code",
      "execution_count": 42,
      "metadata": {
        "colab": {
          "base_uri": "https://localhost:8080/"
        },
        "id": "o8Y80P4qqT3B",
        "outputId": "0d0b0eb0-86c3-4a31-f83b-17e7b3ded121"
      },
      "outputs": [],
      "source": [
        "BOS_WORD = '<start>'\n",
        "EOS_WORD = '</end>'\n",
        "BLANK_WORD = \"<blank>\"\n",
        "\n",
        "SRC = torchtext.legacy.data.Field(\n",
        "    tokenize = tokenize_de, \n",
        "    pad_token = BLANK_WORD\n",
        ")\n",
        "\n",
        "TGT = torchtext.legacy.data.Field(\n",
        "    tokenize = tokenize_en, \n",
        "    init_token = BOS_WORD, \n",
        "    eos_token = EOS_WORD, \n",
        "    pad_token = BLANK_WORD\n",
        ")\n",
        "\n",
        "MAX_LEN = 100\n",
        "MIN_FREQ = 2\n",
        "\n",
        "train, val, test = torchtext.legacy.datasets.Multi30k.splits(\n",
        "    exts = ('.de', '.en'), \n",
        "    fields = (SRC, TGT), \n",
        "    filter_pred = lambda x: len(vars(x)['src']) <= MAX_LEN and \n",
        "        len(vars(x)['trg']) <= MAX_LEN\n",
        ")\n",
        "\n",
        "SRC.build_vocab(train.src, min_freq = MIN_FREQ)\n",
        "TGT.build_vocab(train.trg, min_freq = MIN_FREQ)"
      ]
    },
    {
      "cell_type": "markdown",
      "metadata": {
        "id": "QtdFYOfoy9ZX"
      },
      "source": [
        "### Iteradores\n",
        "Batching é muito importante para a velocidade. Queremos ter lotes muito bem divididos, com preenchimento (padding) absolutamente mínimo. Para fazer isso, temos que hackear um pouco o lote de torchtext padrão. Este código corrige seu lote padrão para garantir que pesquisamos frases suficientes para encontrar lotes apertados."
      ]
    },
    {
      "cell_type": "code",
      "execution_count": 43,
      "metadata": {
        "id": "pMnC27pftVxE"
      },
      "outputs": [],
      "source": [
        "class MyIterator(data.Iterator):\n",
        "    def create_batches(self):\n",
        "\n",
        "        if self.train:\n",
        "            \n",
        "            def pool(d, random_shuffler):\n",
        "                for p in data.batch(d, self.batch_size * 100):\n",
        "                    p_batch = data.batch(\n",
        "                        sorted(p, key = self.sort_key),\n",
        "                        self.batch_size, \n",
        "                        self.batch_size_fn\n",
        "                    )\n",
        "                    \n",
        "                    for b in random_shuffler(list(p_batch)):\n",
        "                        yield b\n",
        "            \n",
        "            self.batches = pool(self.data(), self.random_shuffler)\n",
        "            \n",
        "        else:\n",
        "            self.batches = []\n",
        "            \n",
        "            for b in data.batch(self.data(), self.batch_size, self.batch_size_fn):\n",
        "                self.batches.append(sorted(b, key=self.sort_key))"
      ]
    },
    {
      "cell_type": "code",
      "execution_count": 44,
      "metadata": {
        "id": "v-jSXVWurIYf"
      },
      "outputs": [],
      "source": [
        "def rebatch(pad_idx, batch):\n",
        "    '''\n",
        "    Fix order in torchtext to match ours\n",
        "    '''\n",
        "    src, trg = batch.src.transpose(0, 1), batch.trg.transpose(0, 1)\n",
        "    \n",
        "    return Batch(src, trg, pad_idx)"
      ]
    },
    {
      "cell_type": "markdown",
      "metadata": {
        "id": "dU-NJZb3zHBD"
      },
      "source": [
        "### Treinando o sistema"
      ]
    },
    {
      "cell_type": "code",
      "execution_count": 48,
      "metadata": {
        "colab": {
          "base_uri": "https://localhost:8080/"
        },
        "id": "ig-hqRpQzNZ3",
        "outputId": "3d4ecaef-4c61-44b7-ce17-d33d8c1c94f9"
      },
      "outputs": [],
      "source": [
        "pad_idx = TGT.vocab.stoi[\"<blank>\"]\n",
        " \n",
        "model = make_model(len(SRC.vocab), len(TGT.vocab), \n",
        "    N = N, d_model = d_model, d_ff = d_ff, h = h, dropout = dropout).to(device)\n",
        "\n",
        "criterion = LabelSmoothing(\n",
        "    size = len(TGT.vocab), \n",
        "    padding_idx = pad_idx, \n",
        "    smoothing = 0.1\n",
        ").to(device)\n",
        "\n",
        "\n",
        "train_iter = MyIterator(\n",
        "    train, \n",
        "    batch_size = BATCH_SIZE, \n",
        "    device = device,\n",
        "    repeat = False, \n",
        "    sort_key = lambda x: (len(x.src), len(x.trg)),\n",
        "    batch_size_fn = batch_size_fn, \n",
        "    train = True\n",
        ")\n",
        "\n",
        "valid_iter = MyIterator(\n",
        "    val, \n",
        "    batch_size = BATCH_SIZE, \n",
        "    device = device,\n",
        "    repeat = False, \n",
        "    sort_key = lambda x: (len(x.src), len(x.trg)),\n",
        "    batch_size_fn = batch_size_fn, \n",
        "    train = False\n",
        ")\n"
      ]
    },
    {
      "cell_type": "code",
      "execution_count": 49,
      "metadata": {
        "colab": {
          "base_uri": "https://localhost:8080/"
        },
        "id": "ZnGiHrs_y-m-",
        "outputId": "43adf534-7c71-42e6-a6f1-9c62e044912d"
      },
      "outputs": [
        {
          "name": "stdout",
          "output_type": "stream",
          "text": [
            "Epoch Step: 1 Loss: 7.602129 Tokens per Sec: 323.454651\n",
            "Epoch Step: 51 Loss: 6.212976 Tokens per Sec: 320.629974\n",
            "Epoch Step: 101 Loss: 5.266821 Tokens per Sec: 343.027924\n",
            "Epoch Step: 151 Loss: 4.375191 Tokens per Sec: 340.382660\n",
            "Epoch Step: 201 Loss: 4.617995 Tokens per Sec: 338.248444\n",
            "Epoch Step: 251 Loss: 4.170762 Tokens per Sec: 338.701111\n",
            "Epoch Step: 301 Loss: 3.905739 Tokens per Sec: 336.719482\n",
            "Epoch Step: 351 Loss: 3.624804 Tokens per Sec: 340.884521\n",
            "Epoch Step: 401 Loss: 4.198551 Tokens per Sec: 342.415375\n",
            "Epoch Step: 451 Loss: 3.963381 Tokens per Sec: 343.917450\n",
            "Epoch Step: 501 Loss: 3.728115 Tokens per Sec: 350.618042\n",
            "Epoch Step: 551 Loss: 3.817764 Tokens per Sec: 358.346680\n",
            "Epoch Step: 601 Loss: 3.601992 Tokens per Sec: 349.089050\n",
            "Epoch Step: 651 Loss: 2.777131 Tokens per Sec: 329.257141\n",
            "Epoch Step: 701 Loss: 3.185344 Tokens per Sec: 349.961090\n",
            "Epoch Step: 751 Loss: 3.595632 Tokens per Sec: 359.884827\n",
            "Epoch Step: 801 Loss: 3.264362 Tokens per Sec: 362.729675\n",
            "Epoch Step: 851 Loss: 3.218744 Tokens per Sec: 350.566284\n",
            "Epoch Step: 901 Loss: 3.923734 Tokens per Sec: 364.008514\n",
            "Epoch Step: 951 Loss: 2.867960 Tokens per Sec: 359.943329\n",
            "Epoch Step: 1001 Loss: 2.777931 Tokens per Sec: 362.773529\n",
            "Epoch Step: 1051 Loss: 3.499766 Tokens per Sec: 356.181824\n",
            "Epoch Step: 1101 Loss: 3.375202 Tokens per Sec: 360.450104\n",
            "Epoch Step: 1151 Loss: 2.735768 Tokens per Sec: 356.921478\n",
            "Epoch Step: 1201 Loss: 2.723435 Tokens per Sec: 353.190979\n",
            "Epoch Step: 1251 Loss: 2.611179 Tokens per Sec: 351.832886\n",
            "Epoch Step: 1301 Loss: 3.490844 Tokens per Sec: 359.662720\n",
            "Epoch Step: 1351 Loss: 3.125223 Tokens per Sec: 357.185120\n",
            "Epoch Step: 1401 Loss: 3.157415 Tokens per Sec: 359.933624\n",
            "Epoch Step: 1451 Loss: 2.828187 Tokens per Sec: 354.423370\n",
            "Epoch Step: 1501 Loss: 3.032133 Tokens per Sec: 354.957611\n",
            "Epoch Step: 1551 Loss: 3.163455 Tokens per Sec: 356.816193\n",
            "Epoch Step: 1601 Loss: 2.719797 Tokens per Sec: 346.413086\n",
            "Epoch Step: 1651 Loss: 3.085192 Tokens per Sec: 343.135162\n",
            "Epoch Step: 1701 Loss: 2.423066 Tokens per Sec: 338.234131\n",
            "Epoch Step: 1751 Loss: 2.860573 Tokens per Sec: 336.210968\n",
            "Epoch Step: 1 Loss: 2.250864 Tokens per Sec: 488.127319\n",
            "Epoch Step: 51 Loss: 3.212138 Tokens per Sec: 546.993958\n",
            "tensor(2.6652)\n",
            "Epoch Step: 1 Loss: 2.359543 Tokens per Sec: 318.642517\n",
            "Epoch Step: 51 Loss: 2.617417 Tokens per Sec: 343.500580\n",
            "Epoch Step: 101 Loss: 2.593208 Tokens per Sec: 349.041260\n",
            "Epoch Step: 151 Loss: 3.292570 Tokens per Sec: 338.254547\n",
            "Epoch Step: 201 Loss: 1.848369 Tokens per Sec: 336.684296\n",
            "Epoch Step: 251 Loss: 2.936149 Tokens per Sec: 337.635193\n",
            "Epoch Step: 301 Loss: 2.989817 Tokens per Sec: 330.884338\n",
            "Epoch Step: 351 Loss: 2.544759 Tokens per Sec: 327.513489\n",
            "Epoch Step: 401 Loss: 2.106609 Tokens per Sec: 320.889618\n",
            "Epoch Step: 451 Loss: 2.211271 Tokens per Sec: 317.717133\n",
            "Epoch Step: 501 Loss: 2.747253 Tokens per Sec: 310.554810\n",
            "Epoch Step: 551 Loss: 2.553859 Tokens per Sec: 304.448792\n",
            "Epoch Step: 601 Loss: 2.432497 Tokens per Sec: 306.229187\n",
            "Epoch Step: 651 Loss: 2.371141 Tokens per Sec: 292.372467\n",
            "Epoch Step: 701 Loss: 2.479507 Tokens per Sec: 296.428040\n",
            "Epoch Step: 751 Loss: 2.769863 Tokens per Sec: 293.159393\n",
            "Epoch Step: 801 Loss: 3.376827 Tokens per Sec: 293.390717\n",
            "Epoch Step: 851 Loss: 2.341221 Tokens per Sec: 286.898407\n",
            "Epoch Step: 901 Loss: 2.134843 Tokens per Sec: 273.512604\n",
            "Epoch Step: 951 Loss: 2.822605 Tokens per Sec: 274.638977\n",
            "Epoch Step: 1001 Loss: 3.181254 Tokens per Sec: 267.988251\n",
            "Epoch Step: 1051 Loss: 2.110967 Tokens per Sec: 271.412262\n",
            "Epoch Step: 1101 Loss: 2.519521 Tokens per Sec: 271.313354\n",
            "Epoch Step: 1151 Loss: 2.627121 Tokens per Sec: 269.374115\n",
            "Epoch Step: 1201 Loss: 3.129452 Tokens per Sec: 272.944183\n",
            "Epoch Step: 1251 Loss: 2.993262 Tokens per Sec: 276.731018\n",
            "Epoch Step: 1301 Loss: 2.188736 Tokens per Sec: 272.058319\n",
            "Epoch Step: 1351 Loss: 2.632077 Tokens per Sec: 269.020264\n",
            "Epoch Step: 1401 Loss: 2.529048 Tokens per Sec: 271.398651\n",
            "Epoch Step: 1451 Loss: 3.097230 Tokens per Sec: 262.558746\n",
            "Epoch Step: 1501 Loss: 2.732778 Tokens per Sec: 266.749725\n",
            "Epoch Step: 1551 Loss: 2.230247 Tokens per Sec: 266.161926\n",
            "Epoch Step: 1601 Loss: 3.158441 Tokens per Sec: 257.352417\n",
            "Epoch Step: 1651 Loss: 2.818411 Tokens per Sec: 254.513870\n",
            "Epoch Step: 1701 Loss: 3.501672 Tokens per Sec: 254.062424\n",
            "Epoch Step: 1751 Loss: 2.502333 Tokens per Sec: 254.930496\n",
            "Epoch Step: 1 Loss: 2.011424 Tokens per Sec: 371.361298\n",
            "Epoch Step: 51 Loss: 2.986876 Tokens per Sec: 374.431274\n",
            "tensor(2.4807)\n"
          ]
        }
      ],
      "source": [
        "model_opt = NoamOpt(\n",
        "    model.src_embed[0].d_model, \n",
        "    1, 2000,\n",
        "    torch.optim.Adam(model.parameters(), lr = lr, betas = betas, eps = eps)\n",
        ")\n",
        "\n",
        "for epoch in range(n_epochs):\n",
        "    model.train()\n",
        "\n",
        "    run_epoch(\n",
        "        (rebatch(pad_idx, b) for b in train_iter), \n",
        "        model, \n",
        "        SimpleLossCompute(model.generator, criterion, opt = model_opt)\n",
        "    )\n",
        "\n",
        "    model.eval()\n",
        "    \n",
        "    loss = run_epoch(\n",
        "        (rebatch(pad_idx, b) for b in valid_iter), \n",
        "        model, \n",
        "        SimpleLossCompute(model.generator, criterion, opt = None)\n",
        "    )\n",
        "    \n",
        "    print(loss)"
      ]
    },
    {
      "cell_type": "markdown",
      "metadata": {},
      "source": [
        "Uma vez treinado, podemos decodificar o modelo para produzir um conjunto de traduções. Aqui nós simplesmente traduzimos a primeira sentença no conjunto de validação. Esse conjunto de dados é muito pequeno, então as traduções com busca gananciosa são razoavelmente precisas."
      ]
    },
    {
      "cell_type": "code",
      "execution_count": 56,
      "metadata": {},
      "outputs": [
        {
          "name": "stdout",
          "output_type": "stream",
          "text": [
            "Translation:\tA group of young students are using their hands . \n",
            "Target:\tFarmers are performing their <unk> during the day . \n",
            "BLEU score: 1.821831989445342e-231\n"
          ]
        }
      ],
      "source": [
        "for i, batch in enumerate(valid_iter):\n",
        "    src = batch.src.transpose(0, 1)[:1]\n",
        "    src_mask = (src != SRC.vocab.stoi[\"<blank>\"]).unsqueeze(-2)\n",
        "    \n",
        "    out = greedy_decode(\n",
        "        model, \n",
        "        src, \n",
        "        src_mask, \n",
        "        max_len = 60, \n",
        "        start_symbol = TGT.vocab.stoi[\"<start>\"]\n",
        "    )\n",
        "    \n",
        "    print(\"Translation:\", end = \"\\t\")\n",
        "    \n",
        "    for i in range(1, out.size(1)):\n",
        "        translation = TGT.vocab.itos[out[0, i]]\n",
        "        \n",
        "        if translation == \"</end>\": break\n",
        "        print(translation, end = \" \")\n",
        "    \n",
        "    print(\"\\nTarget:\", end = \"\\t\")\n",
        "    \n",
        "    for i in range(1, batch.trg.size(0)):\n",
        "        target = TGT.vocab.itos[batch.trg.data[i, 0]]\n",
        "        \n",
        "        if target == \"</end>\": break\n",
        "        print(target, end = \" \")\n",
        "\n",
        "    score = sentence_bleu(translation, target)\n",
        "    \n",
        "    print(\"\\nBLEU score: \" + str(score))\n",
        "    break"
      ]
    },
    {
      "cell_type": "markdown",
      "metadata": {},
      "source": [
        "## Experimentos"
      ]
    },
    {
      "cell_type": "code",
      "execution_count": 57,
      "metadata": {},
      "outputs": [
        {
          "name": "stdout",
          "output_type": "stream",
          "text": [
            "Requirement already satisfied: wget in c:\\users\\user\\appdata\\local\\programs\\python\\python39\\lib\\site-packages (3.2)\n",
            "Note: you may need to restart the kernel to use updated packages.\n"
          ]
        },
        {
          "name": "stderr",
          "output_type": "stream",
          "text": [
            "WARNING: You are using pip version 21.2.4; however, version 22.0.4 is available.\n",
            "You should consider upgrading via the 'C:\\Users\\User\\AppData\\Local\\Programs\\Python\\Python39\\python.exe -m pip install --upgrade pip' command.\n"
          ]
        },
        {
          "name": "stdout",
          "output_type": "stream",
          "text": [
            "\n",
            "Saved under en-de-model.pt\n"
          ]
        }
      ],
      "source": [
        "%pip install wget\n",
        "!python -m wget https://s3.amazonaws.com/opennmt-models/en-de-model.pt"
      ]
    },
    {
      "cell_type": "code",
      "execution_count": 58,
      "metadata": {},
      "outputs": [
        {
          "name": "stderr",
          "output_type": "stream",
          "text": [
            "C:\\Users\\User\\AppData\\Local\\Programs\\Python\\Python39\\lib\\site-packages\\torch\\serialization.py:656: SourceChangeWarning: source code of class 'torch.nn.modules.container.ModuleList' has changed. you can retrieve the original source code by accessing the object's source attribute or set `torch.nn.Module.dump_patches = True` and use the patch tool to revert the changes.\n",
            "  warnings.warn(msg, SourceChangeWarning)\n",
            "C:\\Users\\User\\AppData\\Local\\Programs\\Python\\Python39\\lib\\site-packages\\torch\\serialization.py:656: SourceChangeWarning: source code of class 'torch.nn.modules.linear.Linear' has changed. you can retrieve the original source code by accessing the object's source attribute or set `torch.nn.Module.dump_patches = True` and use the patch tool to revert the changes.\n",
            "  warnings.warn(msg, SourceChangeWarning)\n",
            "C:\\Users\\User\\AppData\\Local\\Programs\\Python\\Python39\\lib\\site-packages\\torch\\serialization.py:656: SourceChangeWarning: source code of class 'torch.nn.modules.dropout.Dropout' has changed. you can retrieve the original source code by accessing the object's source attribute or set `torch.nn.Module.dump_patches = True` and use the patch tool to revert the changes.\n",
            "  warnings.warn(msg, SourceChangeWarning)\n",
            "C:\\Users\\User\\AppData\\Local\\Programs\\Python\\Python39\\lib\\site-packages\\torch\\serialization.py:656: SourceChangeWarning: source code of class 'torch.nn.modules.container.Sequential' has changed. you can retrieve the original source code by accessing the object's source attribute or set `torch.nn.Module.dump_patches = True` and use the patch tool to revert the changes.\n",
            "  warnings.warn(msg, SourceChangeWarning)\n",
            "C:\\Users\\User\\AppData\\Local\\Programs\\Python\\Python39\\lib\\site-packages\\torch\\serialization.py:656: SourceChangeWarning: source code of class 'torch.nn.modules.sparse.Embedding' has changed. you can retrieve the original source code by accessing the object's source attribute or set `torch.nn.Module.dump_patches = True` and use the patch tool to revert the changes.\n",
            "  warnings.warn(msg, SourceChangeWarning)\n"
          ]
        }
      ],
      "source": [
        "model, SRC, TGT = torch.load(\"en-de-model.pt\")"
      ]
    },
    {
      "cell_type": "code",
      "execution_count": 64,
      "metadata": {},
      "outputs": [
        {
          "name": "stdout",
          "output_type": "stream",
          "text": [
            "Translation:\t<s> ▁Die ▁Protokoll datei ▁kann ▁ heimlich ▁per ▁E - Mail ▁oder ▁FTP ▁an ▁einen ▁bestimmte n ▁Empfänger ▁gesendet ▁werden . \n",
            "\n",
            "BLEU score: 0.05900959885911068\n"
          ]
        }
      ],
      "source": [
        "model.eval()\n",
        "\n",
        "sent = \"▁The ▁log ▁file ▁can ▁be ▁sent ▁secret ly ▁with ▁email ▁or ▁FTP ▁to ▁a ▁specified ▁receiver\".split()\n",
        "\n",
        "src = torch.LongTensor([[SRC.stoi[w] for w in sent]])\n",
        "src = Variable(src)\n",
        "src_mask = (src != SRC.stoi[\"<blank>\"]).unsqueeze(-2)\n",
        "\n",
        "out = greedy_decode(\n",
        "    model, \n",
        "    src, \n",
        "    src_mask, \n",
        "    max_len = 60, \n",
        "    start_symbol = TGT.stoi[\"<s>\"]\n",
        ")\n",
        "\n",
        "print(\"Translation:\", end = \"\\t\")\n",
        "\n",
        "trans = \"<s> \"\n",
        "\n",
        "for i in range(1, out.size(1)):\n",
        "    sym = TGT.itos[out[0, i]]\n",
        "    \n",
        "    if sym == \"</s>\": break\n",
        "    \n",
        "    trans += sym + \" \"\n",
        "\n",
        "print(trans)\n",
        "\n",
        "score = sentence_bleu(sent, trans)\n",
        "\n",
        "print(\"\\nBLEU score: \" + str(score))\n"
      ]
    }
  ],
  "metadata": {
    "colab": {
      "name": "Traducao com Atencao.ipynb",
      "provenance": [],
      "toc_visible": true
    },
    "kernelspec": {
      "display_name": "Python 3",
      "name": "python3"
    },
    "language_info": {
      "codemirror_mode": {
        "name": "ipython",
        "version": 3
      },
      "file_extension": ".py",
      "mimetype": "text/x-python",
      "name": "python",
      "nbconvert_exporter": "python",
      "pygments_lexer": "ipython3",
      "version": "3.9.9"
    }
  },
  "nbformat": 4,
  "nbformat_minor": 0
}
