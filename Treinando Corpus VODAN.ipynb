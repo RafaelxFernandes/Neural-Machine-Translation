{
 "cells": [
  {
   "cell_type": "markdown",
   "id": "84bd8aec",
   "metadata": {},
   "source": [
    "# Treinando Corpus VODAN BR"
   ]
  },
  {
   "cell_type": "markdown",
   "id": "d6956083",
   "metadata": {},
   "source": [
    "## Importando bibliotecas"
   ]
  },
  {
   "cell_type": "code",
   "execution_count": 1,
   "id": "bb0536d3",
   "metadata": {},
   "outputs": [],
   "source": [
    "import sys\n",
    "import re\n",
    "import unicodedata\n",
    "import multiprocessing\n",
    "import random\n",
    "\n",
    "import gensim\n",
    "from gensim.models import Word2Vec, KeyedVectors\n",
    "from gensim.similarities import WmdSimilarity\n",
    "from pyemd import emd\n",
    "\n",
    "import matplotlib.pyplot as plt\n",
    "plt.rcParams['figure.figsize'] = [10, 5]\n",
    "\n",
    "import nltk\n",
    "from nltk.corpus import stopwords\n",
    "\n",
    "import numpy as np\n",
    "import scipy as sp\n",
    "import pandas as pd\n",
    "\n",
    "from sklearn.decomposition import TruncatedSVD\n",
    "from sklearn.decomposition import PCA\n",
    "\n",
    "np.random.seed(0)\n",
    "random.seed(0)"
   ]
  },
  {
   "cell_type": "markdown",
   "id": "73c02e55",
   "metadata": {},
   "source": [
    "## Lendo o arquivo de entrada"
   ]
  },
  {
   "cell_type": "code",
   "execution_count": 2,
   "id": "a28fda79",
   "metadata": {},
   "outputs": [
    {
     "data": {
      "text/html": [
       "<div>\n",
       "<style scoped>\n",
       "    .dataframe tbody tr th:only-of-type {\n",
       "        vertical-align: middle;\n",
       "    }\n",
       "\n",
       "    .dataframe tbody tr th {\n",
       "        vertical-align: top;\n",
       "    }\n",
       "\n",
       "    .dataframe thead th {\n",
       "        text-align: right;\n",
       "    }\n",
       "</style>\n",
       "<table border=\"1\" class=\"dataframe\">\n",
       "  <thead>\n",
       "    <tr style=\"text-align: right;\">\n",
       "      <th></th>\n",
       "      <th>anamnese</th>\n",
       "    </tr>\n",
       "  </thead>\n",
       "  <tbody>\n",
       "    <tr>\n",
       "      <th>0</th>\n",
       "      <td>#Admissão pela clinica médica \\r\\n# Paciente f...</td>\n",
       "    </tr>\n",
       "    <tr>\n",
       "      <th>1</th>\n",
       "      <td>Paciente proveniente da residência, foi atendi...</td>\n",
       "    </tr>\n",
       "    <tr>\n",
       "      <th>2</th>\n",
       "      <td>EVOLUÇÃO FISIOTERAPIA - PLANTÃO DIURNO SEGUNDA...</td>\n",
       "    </tr>\n",
       "    <tr>\n",
       "      <th>3</th>\n",
       "      <td>Paciente do sexo feminino, 20 anos, acometida ...</td>\n",
       "    </tr>\n",
       "    <tr>\n",
       "      <th>4</th>\n",
       "      <td># ADMISSÃO COORTE COVID-19 #\\r\\n\\r\\n-       41...</td>\n",
       "    </tr>\n",
       "  </tbody>\n",
       "</table>\n",
       "</div>"
      ],
      "text/plain": [
       "                                            anamnese\n",
       "0  #Admissão pela clinica médica \\r\\n# Paciente f...\n",
       "1  Paciente proveniente da residência, foi atendi...\n",
       "2  EVOLUÇÃO FISIOTERAPIA - PLANTÃO DIURNO SEGUNDA...\n",
       "3  Paciente do sexo feminino, 20 anos, acometida ...\n",
       "4  # ADMISSÃO COORTE COVID-19 #\\r\\n\\r\\n-       41..."
      ]
     },
     "execution_count": 2,
     "metadata": {},
     "output_type": "execute_result"
    }
   ],
   "source": [
    "data = pd.read_csv('Dados/anamnese.csv')\n",
    "data.head()"
   ]
  },
  {
   "cell_type": "markdown",
   "id": "52454ccb",
   "metadata": {},
   "source": [
    "## Baixando stopwords em Português"
   ]
  },
  {
   "cell_type": "code",
   "execution_count": 3,
   "id": "3efbaca6",
   "metadata": {},
   "outputs": [
    {
     "data": {
      "text/plain": [
       "['de', 'a', 'o', 'que', 'e', 'é', 'do', 'da', 'em', 'um']"
      ]
     },
     "execution_count": 3,
     "metadata": {},
     "output_type": "execute_result"
    }
   ],
   "source": [
    "stopwords_list = stopwords.words('portuguese')\n",
    "stopwords_list[:10]"
   ]
  },
  {
   "cell_type": "markdown",
   "id": "28abcec3",
   "metadata": {},
   "source": [
    "## Limpando os dados"
   ]
  },
  {
   "cell_type": "code",
   "execution_count": 4,
   "id": "0a3911ca",
   "metadata": {},
   "outputs": [],
   "source": [
    "def clean_data(word):\n",
    "    word = word.lower()\n",
    "    word = re.sub(r'[^\\w\\s]','', word)\n",
    "    word = re.sub(r\"([0-9])\", r\" \", word)\n",
    "    \n",
    "    words = word.split() \n",
    "    \n",
    "    clean_words = [word for word in words if (word not in stopwords_list) and len(word) > 2]\n",
    "    \n",
    "    return \" \".join(clean_words)"
   ]
  },
  {
   "cell_type": "code",
   "execution_count": 5,
   "id": "139e4caa",
   "metadata": {},
   "outputs": [
    {
     "data": {
      "text/html": [
       "<div>\n",
       "<style scoped>\n",
       "    .dataframe tbody tr th:only-of-type {\n",
       "        vertical-align: middle;\n",
       "    }\n",
       "\n",
       "    .dataframe tbody tr th {\n",
       "        vertical-align: top;\n",
       "    }\n",
       "\n",
       "    .dataframe thead th {\n",
       "        text-align: right;\n",
       "    }\n",
       "</style>\n",
       "<table border=\"1\" class=\"dataframe\">\n",
       "  <thead>\n",
       "    <tr style=\"text-align: right;\">\n",
       "      <th></th>\n",
       "      <th>anamnese</th>\n",
       "      <th>clean_text</th>\n",
       "    </tr>\n",
       "  </thead>\n",
       "  <tbody>\n",
       "    <tr>\n",
       "      <th>0</th>\n",
       "      <td>#Admissão pela clinica médica \\r\\n# Paciente f...</td>\n",
       "      <td>admissão clinica médica paciente feminina anos...</td>\n",
       "    </tr>\n",
       "    <tr>\n",
       "      <th>1</th>\n",
       "      <td>Paciente proveniente da residência, foi atendi...</td>\n",
       "      <td>paciente proveniente residência atendida spa i...</td>\n",
       "    </tr>\n",
       "    <tr>\n",
       "      <th>2</th>\n",
       "      <td>EVOLUÇÃO FISIOTERAPIA - PLANTÃO DIURNO SEGUNDA...</td>\n",
       "      <td>evolução fisioterapia plantão diurno segunda f...</td>\n",
       "    </tr>\n",
       "    <tr>\n",
       "      <th>3</th>\n",
       "      <td>Paciente do sexo feminino, 20 anos, acometida ...</td>\n",
       "      <td>paciente sexo feminino anos acometida tipo hep...</td>\n",
       "    </tr>\n",
       "    <tr>\n",
       "      <th>4</th>\n",
       "      <td># ADMISSÃO COORTE COVID-19 #\\r\\n\\r\\n-       41...</td>\n",
       "      <td>admissão coorte covid anos srag suspeita covid...</td>\n",
       "    </tr>\n",
       "  </tbody>\n",
       "</table>\n",
       "</div>"
      ],
      "text/plain": [
       "                                            anamnese  \\\n",
       "0  #Admissão pela clinica médica \\r\\n# Paciente f...   \n",
       "1  Paciente proveniente da residência, foi atendi...   \n",
       "2  EVOLUÇÃO FISIOTERAPIA - PLANTÃO DIURNO SEGUNDA...   \n",
       "3  Paciente do sexo feminino, 20 anos, acometida ...   \n",
       "4  # ADMISSÃO COORTE COVID-19 #\\r\\n\\r\\n-       41...   \n",
       "\n",
       "                                          clean_text  \n",
       "0  admissão clinica médica paciente feminina anos...  \n",
       "1  paciente proveniente residência atendida spa i...  \n",
       "2  evolução fisioterapia plantão diurno segunda f...  \n",
       "3  paciente sexo feminino anos acometida tipo hep...  \n",
       "4  admissão coorte covid anos srag suspeita covid...  "
      ]
     },
     "execution_count": 5,
     "metadata": {},
     "output_type": "execute_result"
    }
   ],
   "source": [
    "clean_text = []\n",
    "\n",
    "for text in data['anamnese']:\n",
    "    clean_text.append(clean_data(text))\n",
    "\n",
    "data['clean_text'] = clean_text\n",
    "data.head()"
   ]
  },
  {
   "cell_type": "code",
   "execution_count": 6,
   "id": "cedd6ae3",
   "metadata": {},
   "outputs": [],
   "source": [
    "data_clean_text = data['clean_text'].values.tolist()\n",
    "\n",
    "word_split = []\n",
    "for word in data_clean_text:\n",
    "    word_split.append(word.split(' '))\n",
    "\n",
    "data_clean_text = word_split"
   ]
  },
  {
   "cell_type": "markdown",
   "id": "b9ee00ab",
   "metadata": {},
   "source": [
    "## Selecionando apenas palavras distintas"
   ]
  },
  {
   "cell_type": "code",
   "execution_count": 7,
   "id": "4344237d",
   "metadata": {},
   "outputs": [],
   "source": [
    "def distinct_words(corpus):\n",
    "    corpus_words = []\n",
    "    num_corpus_words = -1\n",
    "    \n",
    "    corpus_words =  sorted(list(set([word for sentence in corpus for word in sentence])))\n",
    "    num_corpus_words = len(corpus_words)\n",
    "\n",
    "    return corpus_words, num_corpus_words"
   ]
  },
  {
   "cell_type": "markdown",
   "id": "ac711b6f",
   "metadata": {},
   "source": [
    "## Calculando matriz de co-ocorrência"
   ]
  },
  {
   "cell_type": "code",
   "execution_count": 8,
   "id": "5e2560a0",
   "metadata": {},
   "outputs": [],
   "source": [
    "def compute_co_occurrence_matrix(corpus, window_size = 5):\n",
    "    words, num_words = distinct_words(corpus)\n",
    "    M = np.zeros((num_words, num_words))\n",
    "    word2ind = dict([(word, index) for index, word in enumerate(words)])\n",
    "    \n",
    "    for sentence in corpus:\n",
    "        current_index = 0\n",
    "        sentence_len = len(sentence)\n",
    "        indices = [word2ind[i] for i in sentence]\n",
    "        \n",
    "        while current_index < sentence_len:\n",
    "            left  = max(current_index - window_size, 0)\n",
    "            right = min(current_index + window_size + 1, sentence_len) \n",
    "            \n",
    "            current_word = sentence[current_index]\n",
    "            current_word_index = word2ind[current_word]\n",
    "            words_around = indices[left:current_index] + indices[current_index+1:right]\n",
    "            \n",
    "            for ind in words_around:\n",
    "                M[current_word_index, ind] += 1\n",
    "            \n",
    "            current_index += 1\n",
    "\n",
    "    return M, word2ind"
   ]
  },
  {
   "cell_type": "markdown",
   "id": "a2dce144",
   "metadata": {},
   "source": [
    "## Reduzindo a matriz de coorrência para k-dimensão"
   ]
  },
  {
   "cell_type": "code",
   "execution_count": 9,
   "id": "c0fd9dbf",
   "metadata": {},
   "outputs": [],
   "source": [
    "def reduce_to_k_dim(M, k = 2):\n",
    "    n_iters = 10    \n",
    "    M_reduced = None\n",
    "    \n",
    "    print(\"Running Truncated SVD over %i words...\" % (M.shape[0]))\n",
    "    \n",
    "    TSVD = TruncatedSVD(n_components = k, n_iter = n_iters)\n",
    "    M_reduced = TSVD.fit_transform(M)\n",
    "    \n",
    "    print(\"Done.\")\n",
    "    return M_reduced"
   ]
  },
  {
   "cell_type": "markdown",
   "id": "fa9c4275",
   "metadata": {},
   "source": [
    "## Plotando embeddings"
   ]
  },
  {
   "cell_type": "code",
   "execution_count": 10,
   "id": "290163d1",
   "metadata": {},
   "outputs": [],
   "source": [
    "def plot_embeddings(M_reduced, word2ind, words):\n",
    "    for word in words:\n",
    "        index = word2ind[word]\n",
    "        embedding = M_reduced[index]\n",
    "        \n",
    "        x, y  = embedding[0], embedding[1]\n",
    "        \n",
    "        plt.scatter(x, y, marker='x', color='red')\n",
    "        plt.text(x, y, word, fontsize=9)\n",
    "    \n",
    "    plt.show()"
   ]
  },
  {
   "cell_type": "code",
   "execution_count": 11,
   "id": "f49d80f7",
   "metadata": {},
   "outputs": [
    {
     "name": "stdout",
     "output_type": "stream",
     "text": [
      "Running Truncated SVD over 1846 words...\n",
      "Done.\n"
     ]
    },
    {
     "data": {
      "image/png": "[encoded data removed]",
      "text/plain": [
       "<Figure size 720x360 with 1 Axes>"
      ]
     },
     "metadata": {
      "needs_background": "light"
     },
     "output_type": "display_data"
    }
   ],
   "source": [
    "M_co_occurrence, word2ind_co_occurrence = compute_co_occurrence_matrix(data_clean_text)\n",
    "M_reduced_co_occurrence = reduce_to_k_dim(M_co_occurrence)\n",
    "\n",
    "M_lengths = np.linalg.norm(M_reduced_co_occurrence, axis = 1)\n",
    "M_normalized = M_reduced_co_occurrence / M_lengths[:, np.newaxis]\n",
    "\n",
    "words = [\n",
    "    'paciente', 'covid', 'feminino', 'masculino',\n",
    "    'febre', 'obesa', 'tabagismo', 'diabetes', 'tosse', 'hepatopata', 'hipertensão',\n",
    "    'fisioterapia', 'enfermaria', 'internação', 'cti'\n",
    "]\n",
    "\n",
    "plot_embeddings(M_normalized, word2ind_co_occurrence, words)"
   ]
  },
  {
   "cell_type": "markdown",
   "id": "ffdc5eb4",
   "metadata": {},
   "source": [
    "## Criando um modelo vazio"
   ]
  },
  {
   "cell_type": "code",
   "execution_count": 12,
   "id": "2039125b",
   "metadata": {},
   "outputs": [],
   "source": [
    "cores = multiprocessing.cpu_count()\n",
    "\n",
    "model = Word2Vec(\n",
    "    min_count = 10,\n",
    "    window = 5,\n",
    "    workers = cores - 1,\n",
    "    max_vocab_size = 100000\n",
    ")\n",
    "\n",
    "model.build_vocab(data_clean_text)"
   ]
  },
  {
   "cell_type": "markdown",
   "id": "5d6922a0",
   "metadata": {},
   "source": [
    "## Treinando o modelo"
   ]
  },
  {
   "cell_type": "code",
   "execution_count": 13,
   "id": "757c013f",
   "metadata": {},
   "outputs": [
    {
     "data": {
      "text/plain": [
       "(55317, 306750)"
      ]
     },
     "execution_count": 13,
     "metadata": {},
     "output_type": "execute_result"
    }
   ],
   "source": [
    "model.train(\n",
    "    data_clean_text,\n",
    "    total_examples = model.corpus_count,\n",
    "    epochs = 50\n",
    ")"
   ]
  },
  {
   "cell_type": "code",
   "execution_count": 14,
   "id": "07b6b3bf",
   "metadata": {},
   "outputs": [
    {
     "data": {
      "text/plain": [
       "['paciente',\n",
       " 'anos',\n",
       " 'covid',\n",
       " 'nega',\n",
       " 'dias',\n",
       " 'uso',\n",
       " 'febre',\n",
       " 'conduta',\n",
       " 'mmhg',\n",
       " 'dia']"
      ]
     },
     "execution_count": 14,
     "metadata": {},
     "output_type": "execute_result"
    }
   ],
   "source": [
    "words = list(model.wv.index_to_key)\n",
    "words[:10]"
   ]
  },
  {
   "cell_type": "code",
   "execution_count": 15,
   "id": "8734a2b4",
   "metadata": {
    "scrolled": false
   },
   "outputs": [],
   "source": [
    "model.save('Anamnese')"
   ]
  },
  {
   "cell_type": "code",
   "execution_count": 16,
   "id": "415d9226",
   "metadata": {},
   "outputs": [],
   "source": [
    "trained_model = gensim.models.Word2Vec.load('Anamnese')"
   ]
  },
  {
   "cell_type": "code",
   "execution_count": 17,
   "id": "02b13871",
   "metadata": {},
   "outputs": [
    {
     "data": {
      "text/plain": [
       "[('sintomas', 0.9965553879737854),\n",
       " ('covid', 0.9942978620529175),\n",
       " ('febre', 0.993326723575592),\n",
       " ('seca', 0.9928711652755737),\n",
       " ('tosse', 0.9925109148025513),\n",
       " ('início', 0.9917367100715637),\n",
       " ('quadro', 0.991161584854126),\n",
       " ('cti', 0.991116464138031),\n",
       " ('hospital', 0.9907221794128418),\n",
       " ('tratamento', 0.9902929067611694)]"
      ]
     },
     "execution_count": 17,
     "metadata": {},
     "output_type": "execute_result"
    }
   ],
   "source": [
    "trained_model.wv.most_similar('paciente')"
   ]
  },
  {
   "cell_type": "code",
   "execution_count": 18,
   "id": "f553d2cb",
   "metadata": {},
   "outputs": [
    {
     "data": {
      "text/plain": [
       "[('feminino', 0.9956920742988586),\n",
       " ('sexo', 0.9948996901512146),\n",
       " ('cti', 0.992834210395813),\n",
       " ('suspeita', 0.9893884658813477),\n",
       " ('enfermaria', 0.9888049364089966),\n",
       " ('internação', 0.988092303276062),\n",
       " ('síndrome', 0.9868777990341187),\n",
       " ('admitido', 0.9861096739768982),\n",
       " ('plantão', 0.9860779643058777),\n",
       " ('proveniente', 0.9812664985656738)]"
      ]
     },
     "execution_count": 18,
     "metadata": {},
     "output_type": "execute_result"
    }
   ],
   "source": [
    "trained_model.wv.most_similar(positive = ['paciente', 'covid'], negative = ['febre'])"
   ]
  }
 ],
 "metadata": {
  "kernelspec": {
   "display_name": "Python 3 (ipykernel)",
   "language": "python",
   "name": "python3"
  },
  "language_info": {
   "codemirror_mode": {
    "name": "ipython",
    "version": 3
   },
   "file_extension": ".py",
   "mimetype": "text/x-python",
   "name": "python",
   "nbconvert_exporter": "python",
   "pygments_lexer": "ipython3",
   "version": "3.9.9"
  }
 },
 "nbformat": 4,
 "nbformat_minor": 5
}
